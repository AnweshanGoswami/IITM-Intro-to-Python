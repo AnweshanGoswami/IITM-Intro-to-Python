{
 "cells": [
  {
   "cell_type": "markdown",
   "metadata": {},
   "source": [
    "Accept two square matrices AA and BB of dimensions n \\times nn×n as input and compute their product ABAB.\n",
    "\n",
    "The first line of the input will contain the integer nn. This is followed by 2n2n lines. Out of these, each of the first nn lines is a sequence of comma-separated integers that denotes one row of the matrix AA. Each of the last nn lines is a sequence of comma-separated integers that denotes one row of the matrix BB.\n",
    "\n",
    "Your output should again be a sequence of nn lines, where each line is a sequence of comma-separated integers that denotes a row of the matrix ABAB."
   ]
  },
  {
   "cell_type": "code",
   "execution_count": 24,
   "metadata": {},
   "outputs": [
    {
     "name": "stdout",
     "output_type": "stream",
     "text": [
      "19,22\n",
      "43,50\n"
     ]
    }
   ],
   "source": [
    "n = int(input())# dimensions of  the matrix\n",
    "\n",
    "A= []\n",
    "B = []\n",
    "result= []\n",
    "\n",
    "for i in range(n):\n",
    "    A.append(list(map(int, input().split(\",\"))))\n",
    "for i in range(n):\n",
    "    B.append(list(map(int, input().split(\",\"))))\n",
    "for i in range(n):\n",
    "    result.append([])\n",
    "    for j in range(n):\n",
    "        result[i].append(0)\n",
    "\n",
    "#multiply\n",
    "# iterating by row of A\n",
    "for i in range(len(A)):\n",
    " \n",
    "    # iterating by column by B\n",
    "    for j in range(len(B[0])):\n",
    " \n",
    "        # iterating by rows of B\n",
    "        for k in range(len(B)):\n",
    "            result[i][j] += A[i][k] * B[k][j]\n",
    "for i in range(n):\n",
    "    for j in range(n-1):\n",
    "        print(result[i][j], end=\",\")\n",
    "    print(result[i][-1])\n",
    "\n",
    "\n",
    "\n"
   ]
  },
  {
   "cell_type": "code",
   "execution_count": null,
   "metadata": {},
   "outputs": [],
   "source": []
  }
 ],
 "metadata": {
  "interpreter": {
   "hash": "a9e07d9c7114714814dde511de02846c2528fd0e5235b228d7fe89267f34beb2"
  },
  "kernelspec": {
   "display_name": "Python 3.9.7 64-bit",
   "language": "python",
   "name": "python3"
  },
  "language_info": {
   "codemirror_mode": {
    "name": "ipython",
    "version": 3
   },
   "file_extension": ".py",
   "mimetype": "text/x-python",
   "name": "python",
   "nbconvert_exporter": "python",
   "pygments_lexer": "ipython3",
   "version": "3.9.7"
  },
  "orig_nbformat": 4
 },
 "nbformat": 4,
 "nbformat_minor": 2
}
