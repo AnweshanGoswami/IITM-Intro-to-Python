{
 "cells": [
  {
   "cell_type": "markdown",
   "metadata": {},
   "source": [
    "You are given a sequence of nn points, (x_i,y_i)(x \n",
    "i\n",
    "​\n",
    " ,y \n",
    "i\n",
    "​\n",
    " ), 1\\leq x \\leq n1≤x≤n, in the 2-D plane as input. Also, you are given a point PP with coordinates (x,y)(x,y). Print all points in the sequence that are nearest to PP. If multiple points have the same least distance from PP, print the points in the order of their appearance in the sequence.\n",
    "\n",
    "The first line of the input is an integer nn, representing the number of points in the sequence. Each of the next nn lines contains the co-ordinates of a point separated by comma. The last line contains the xx and yy co-ordinates of the point PP. Assume that all the xx and yy co-ordinates are integers.\n",
    "\n",
    "The distance between two points (x_1,y_1)(x \n",
    "1\n",
    "​\n",
    " ,y \n",
    "1\n",
    "​\n",
    " ) and (x_2,y_2)(x \n",
    "2\n",
    "​\n",
    " ,y \n",
    "2\n",
    "​\n",
    " ) is \\sqrt{(x_1 - x_2)^2+(y_1 - y_2)^2} \n",
    "(x \n",
    "1\n",
    "​\n",
    " −x \n",
    "2\n",
    "​\n",
    " ) \n",
    "2\n",
    " +(y \n",
    "1\n",
    "​\n",
    " −y \n",
    "2\n",
    "​\n",
    " ) \n",
    "2\n",
    " \n",
    "​\n",
    " . You can assume that the maximum distance from PP to any point will not exceed 10001000."
   ]
  },
  {
   "cell_type": "code",
   "execution_count": 9,
   "metadata": {},
   "outputs": [
    {
     "name": "stdout",
     "output_type": "stream",
     "text": [
      "3,4\n",
      "1,2\n"
     ]
    }
   ],
   "source": [
    "import math\n",
    "n = int(input())\n",
    "points = []\n",
    "\n",
    "for i in range(n):\n",
    "    points.append(list(map(float, input().split(\",\"))))\n",
    "\n",
    "p = input()\n",
    "px,py = float(p[0]), float(p[2])\n",
    "closest = []\n",
    "\n",
    "mind = 100000\n",
    "for i in points:\n",
    "    dist = math.sqrt( ((i[0]-px)**2) + ( ( i[1]-py )**2 ) )\n",
    "    if dist<mind:\n",
    "        mind = dist\n",
    "        closest = [[int(i[0]), int(i[1])]]\n",
    "    elif dist == mind:\n",
    "        closest.append([int(i[0]), int(i[1])])\n",
    "\n",
    "for i in range(len(closest)):\n",
    "    for j in range(1):\n",
    "        print(closest[i][j], end= \",\")\n",
    "    print(closest[i][-1])\n",
    "\n",
    "\n",
    "\n",
    "    \n"
   ]
  }
 ],
 "metadata": {
  "interpreter": {
   "hash": "a9e07d9c7114714814dde511de02846c2528fd0e5235b228d7fe89267f34beb2"
  },
  "kernelspec": {
   "display_name": "Python 3.9.7 64-bit",
   "language": "python",
   "name": "python3"
  },
  "language_info": {
   "codemirror_mode": {
    "name": "ipython",
    "version": 3
   },
   "file_extension": ".py",
   "mimetype": "text/x-python",
   "name": "python",
   "nbconvert_exporter": "python",
   "pygments_lexer": "ipython3",
   "version": "3.9.7"
  },
  "orig_nbformat": 4
 },
 "nbformat": 4,
 "nbformat_minor": 2
}
