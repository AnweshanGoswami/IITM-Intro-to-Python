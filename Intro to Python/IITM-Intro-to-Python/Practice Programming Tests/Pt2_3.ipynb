{
 "cells": [
  {
   "cell_type": "markdown",
   "metadata": {},
   "source": [
    "A test match happened between Team A and Team B. The scores of the teams in both the innings are given as input in eight lines in the format given below. The first two lines represent the scores of Team A in the first innings and the next two lines represent the scores of Team A in the second innings. Likewise, the last four lines represent the scores of Team B in both the innings.\n",
    "\n",
    "The numbers in 2nd, 4th, 6th, and 8th lines represent the wickets lost by the teams and the numbers in 1st, 3rd, 5th, and 7th represent the runs scored. For example:\n",
    "\n",
    "120\n",
    "10\n",
    "210\n",
    "10\n",
    "115\n",
    "10\n",
    "189\n",
    "10\n",
    "\n",
    "In the above example, team-A has scored 120120 for the loss of 1010 wickets in the first innings, and 210210 for the loss of 1010 wickets in the second innings. Team A plays first and Team B plays second. Your task is to determine the winner of the match.\n",
    "\n",
    "Process to decide the outcome\n",
    "\n",
    "Team A wins if and only if the sum of its scores in both the innings is greater than sum of the scores of Team B in both the innings AND Team B lost all the ten wickets in the second innings. Team B wins if the sum of its scores in both the innings is greater than sum of the scores of Team A in both the innings.\n",
    "\n",
    "A match will end in a draw if the sum of scores in the two innings of both the teams are equal OR if Team B did not lose all the ten wickets in the second innings. If the match ends in a draw, then print DRAW.\n",
    "\n",
    "Example\n",
    "\n",
    "120\n",
    "10\n",
    "210\n",
    "10\n",
    "115\n",
    "10\n",
    "189\n",
    "10\n",
    "Example output\n",
    "\n",
    "Team A\n",
    "\n",
    "120 + 210 > 115 + 89120+210>115+89 and Team B lost all 1010 wickets in second innings, therefore Team A is the winner of the test match."
   ]
  },
  {
   "cell_type": "code",
   "execution_count": 7,
   "metadata": {},
   "outputs": [
    {
     "name": "stdout",
     "output_type": "stream",
     "text": [
      "Team A\n"
     ]
    }
   ],
   "source": [
    "scores = []\n",
    "for i in range(8):\n",
    "    x = int(input())\n",
    "    scores.append(x)\n",
    "    \n",
    "team_A = scores[:4]\n",
    "team_B = scores[4:]\n",
    "\n",
    "flag = \"DRAW\"\n",
    "A_more_runs = team_A[0]+team_A[2] > team_B[0]+team_B[2]\n",
    "B_all_wicks = team_B[3] == 10\n",
    "B_more_runs = team_A[0]+team_A[2] < team_B[0]+team_B[2]\n",
    "\n",
    "if A_more_runs and B_all_wicks:\n",
    "    flag = \"Team A\"\n",
    "elif B_more_runs:\n",
    "    flag = \"Team B\"\n",
    "print(flag)\n",
    "\n",
    "\n",
    "\n"
   ]
  }
 ],
 "metadata": {
  "interpreter": {
   "hash": "a9e07d9c7114714814dde511de02846c2528fd0e5235b228d7fe89267f34beb2"
  },
  "kernelspec": {
   "display_name": "Python 3.9.7 64-bit",
   "language": "python",
   "name": "python3"
  },
  "language_info": {
   "codemirror_mode": {
    "name": "ipython",
    "version": 3
   },
   "file_extension": ".py",
   "mimetype": "text/x-python",
   "name": "python",
   "nbconvert_exporter": "python",
   "pygments_lexer": "ipython3",
   "version": "3.9.7"
  },
  "orig_nbformat": 4
 },
 "nbformat": 4,
 "nbformat_minor": 2
}
