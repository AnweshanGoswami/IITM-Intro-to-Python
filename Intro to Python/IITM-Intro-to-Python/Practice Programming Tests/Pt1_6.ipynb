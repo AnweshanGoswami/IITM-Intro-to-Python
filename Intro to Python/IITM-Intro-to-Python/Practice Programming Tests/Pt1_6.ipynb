{
 "cells": [
  {
   "cell_type": "markdown",
   "metadata": {},
   "source": [
    "You are given a string and two non-negative integers as input. The two integers specify the start and end indices of a substring in the given string. Create a new string by replicating the substring a minimum number of times so that the resulting string is longer than the input string.\n",
    "\n",
    "The input parameters are the string, start index of the substring and the end index of substring (endpoints inclusive) each on a different line."
   ]
  },
  {
   "cell_type": "code",
   "execution_count": 1,
   "metadata": {},
   "outputs": [
    {
     "name": "stdout",
     "output_type": "stream",
     "text": [
      "ppppppp"
     ]
    }
   ],
   "source": [
    "word = input()\n",
    "start = int(input())\n",
    "end = int(input())\n",
    "\n",
    "sub = word[start:end+1]\n",
    "reps = int(len(word)//len(sub) + 1) \n",
    "for i in range(reps):\n",
    "    print(sub, end=\"\")"
   ]
  }
 ],
 "metadata": {
  "interpreter": {
   "hash": "a12d694c3ccac42055183a0ad11e659c6a2db5c6555ad2c8919d5814fd4e404f"
  },
  "kernelspec": {
   "display_name": "Python 3.9.5 64-bit",
   "language": "python",
   "name": "python3"
  },
  "language_info": {
   "codemirror_mode": {
    "name": "ipython",
    "version": 3
   },
   "file_extension": ".py",
   "mimetype": "text/x-python",
   "name": "python",
   "nbconvert_exporter": "python",
   "pygments_lexer": "ipython3",
   "version": "3.9.5"
  },
  "orig_nbformat": 4
 },
 "nbformat": 4,
 "nbformat_minor": 2
}
