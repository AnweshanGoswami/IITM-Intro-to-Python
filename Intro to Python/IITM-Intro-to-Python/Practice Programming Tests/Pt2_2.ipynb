{
 "cells": [
  {
   "cell_type": "markdown",
   "metadata": {},
   "source": [
    "A data science company wants to hire data scientists from IIT Madras. The company follows a certain criteria for selection: for a student to be selected, the number of backlogs should be at most 55 and the CGPA (Cumulative Grade Point Average) should be greater than 66. If the student does not fit the above criteria, then the student is not offered the job. If the student is selected, then the salary offered is equal to 55 times his/her CGPA (in lakhs).\n",
    "\n",
    "Accept the number of backlogs (integer) and the CGPA (float) of the student as input. Your task is to determine if the student is selected or not. If the student is selected, then print the package. If not, then print the string Not Selected."
   ]
  },
  {
   "cell_type": "code",
   "execution_count": null,
   "metadata": {},
   "outputs": [],
   "source": [
    "backlog = int(input())\n",
    "cgpa = float(input())\n",
    "\n",
    "if cgpa<=6 or backlog>5:\n",
    "    print(\"Not Selected\")\n",
    "else:\n",
    "    print(cgpa*5)"
   ]
  }
 ],
 "metadata": {
  "language_info": {
   "name": "python"
  },
  "orig_nbformat": 4
 },
 "nbformat": 4,
 "nbformat_minor": 2
}
