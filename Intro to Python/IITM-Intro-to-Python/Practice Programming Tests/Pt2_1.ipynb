{
 "cells": [
  {
   "cell_type": "markdown",
   "metadata": {},
   "source": [
    "A class teacher has decided to split her entire class into four groups, namely Sapphire, Peridot, Ruby, and Emerald for sports competitions. For dividing the students into these four groups, she has followed the pattern given below:"
   ]
  },
  {
   "cell_type": "code",
   "execution_count": null,
   "metadata": {},
   "outputs": [],
   "source": [
    "roll = int(input())\n",
    "\n",
    "if roll%4 == 0:\n",
    "    print(\"Emerald\")\n",
    "elif roll%4 == 1:\n",
    "    print(\"Sapphire\")\n",
    "elif roll%4 == 2:\n",
    "    print(\"Peridot\")\n",
    "elif roll%4 == 3:\n",
    "    print(\"Ruby\")"
   ]
  }
 ],
 "metadata": {
  "language_info": {
   "name": "python"
  },
  "orig_nbformat": 4
 },
 "nbformat": 4,
 "nbformat_minor": 2
}
