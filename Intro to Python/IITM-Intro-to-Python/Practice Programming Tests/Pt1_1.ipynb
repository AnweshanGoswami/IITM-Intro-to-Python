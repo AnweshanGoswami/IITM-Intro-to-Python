{
 "cells": [
  {
   "cell_type": "markdown",
   "metadata": {},
   "source": [
    "Print the following pattern. There is exactly one space between any two consecutive numbers on any line. There are no spaces at the end of any line.\n",
    "\n",
    "1 2 1\n",
    "\n",
    "1 2 3 2 1\n",
    "\n",
    "1 2 3 4 3 2 1\n",
    "\n",
    "1 2 3 4 5 4 3 2 1"
   ]
  },
  {
   "cell_type": "code",
   "execution_count": null,
   "metadata": {},
   "outputs": [],
   "source": [
    "for i in range(1, 5):\n",
    "    for j in range(1,i+2):\n",
    "      print(j, end=\" \")\n",
    "    for k in range(j-1,1,-1):\n",
    "      print(k, end=\" \")\n",
    "    #print(j-1, end=\"\")\n",
    "    print(1)"
   ]
  }
 ],
 "metadata": {
  "language_info": {
   "name": "python"
  },
  "orig_nbformat": 4
 },
 "nbformat": 4,
 "nbformat_minor": 2
}
