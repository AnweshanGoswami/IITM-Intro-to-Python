{
 "cells": [
  {
   "cell_type": "markdown",
   "metadata": {},
   "source": [
    "Accept four integers as input and write a program to print these integers in non-decreasing order.\n",
    "\n",
    "The input will be four integers in four lines. The output should be a single line with all the integers separated by a single space in non-decreasing order.\n",
    "\n",
    "Note: There is no space after the fourth integer."
   ]
  },
  {
   "cell_type": "code",
   "execution_count": 1,
   "metadata": {},
   "outputs": [
    {
     "name": "stdout",
     "output_type": "stream",
     "text": [
      "[5]\n"
     ]
    }
   ],
   "source": [
    "n = []\n",
    "for i in range(4):\n",
    "    n.append(int(input()))\n",
    "    \n",
    "n_sort = []\n",
    "\n",
    "while len(n)>0:\n",
    "    mini = n[0]\n",
    "    for x in range(len(n)):\n",
    "        if n[x]< mini:\n",
    "            mini = n[x]\n",
    "    n_sort.append(mini)\n",
    "    n.remove(mini)\n",
    "    \n",
    "for x in range(len(n_sort)-1):\n",
    "    print(n_sort[x], end=\" \")\n",
    "print(n_sort[-1])"
   ]
  }
 ],
 "metadata": {
  "interpreter": {
   "hash": "a9e07d9c7114714814dde511de02846c2528fd0e5235b228d7fe89267f34beb2"
  },
  "kernelspec": {
   "display_name": "Python 3.9.7 64-bit",
   "language": "python",
   "name": "python3"
  },
  "language_info": {
   "codemirror_mode": {
    "name": "ipython",
    "version": 3
   },
   "file_extension": ".py",
   "mimetype": "text/x-python",
   "name": "python",
   "nbconvert_exporter": "python",
   "pygments_lexer": "ipython3",
   "version": "3.9.7"
  },
  "orig_nbformat": 4
 },
 "nbformat": 4,
 "nbformat_minor": 2
}
