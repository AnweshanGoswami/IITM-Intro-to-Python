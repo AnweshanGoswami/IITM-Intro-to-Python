{
 "cells": [
  {
   "cell_type": "markdown",
   "metadata": {},
   "source": [
    "In this problem, we shall try to create the list of dictionaries which was given to us in the previous problem.\n",
    "\n",
    "Accept a positive integer nn that represents the number of students in the class. nn blocks of input follow. Each block is made up of six lines and contains the details of one student in the class. Create a dictionary corresponding to each student. All keys should be strings. The type of the value corresponding to a key and the order in which the inputs should be accepted are shown in the table given below.\n",
    "\n",
    "Line number\tKey\tType of Value\n",
    "\n",
    "1\tName\tString\n",
    "\n",
    "2\tCity\tString\n",
    "\n",
    "3\tSeqNo\tInteger\n",
    "\n",
    "4\tMathematics\tInteger\n",
    "\n",
    "5\tPhysics\tInteger\n",
    "\n",
    "6\tChemistry\tInteger\n",
    "\n",
    "Append each dictionary to a list named scores_dataset. This is the list that we will finally use for evaluating your code. The dictionaries corresponding to the students should be appended in the order in which they appear in the sequence of inputs.\n",
    "\n",
    "You do not have to print the output to the console."
   ]
  },
  {
   "cell_type": "code",
   "execution_count": 1,
   "metadata": {},
   "outputs": [],
   "source": [
    "def to_dict(l):\n",
    "    x = {}\n",
    "    x[\"Name\"] = input()\n",
    "    x['City'] = input()\n",
    "    x[\"SeqNo\"] = int(input())\n",
    "    x[\"Mathematics\"] = int(input())\n",
    "    x[\"Physics\"] = int(input())\n",
    "    x[\"Chemistry\"] = int(input())\n",
    "    l.append(x)\n"
   ]
  },
  {
   "cell_type": "code",
   "execution_count": 4,
   "metadata": {},
   "outputs": [
    {
     "name": "stdout",
     "output_type": "stream",
     "text": [
      "[{'Name': 'a', 'City': 's', 'SeqNo': 8, 'Mathematics': 8, 'Physics': 9, 'Chemistry': 7}]\n"
     ]
    }
   ],
   "source": [
    "n = int(input())\n",
    "scores_dataset = []\n",
    "for i in range(n):\n",
    "    to_dict(scores_dataset)\n",
    "print(scores_dataset)"
   ]
  }
 ],
 "metadata": {
  "interpreter": {
   "hash": "a9e07d9c7114714814dde511de02846c2528fd0e5235b228d7fe89267f34beb2"
  },
  "kernelspec": {
   "display_name": "Python 3.9.7 64-bit",
   "language": "python",
   "name": "python3"
  },
  "language_info": {
   "codemirror_mode": {
    "name": "ipython",
    "version": 3
   },
   "file_extension": ".py",
   "mimetype": "text/x-python",
   "name": "python",
   "nbconvert_exporter": "python",
   "pygments_lexer": "ipython3",
   "version": "3.9.7"
  },
  "orig_nbformat": 4
 },
 "nbformat": 4,
 "nbformat_minor": 2
}
