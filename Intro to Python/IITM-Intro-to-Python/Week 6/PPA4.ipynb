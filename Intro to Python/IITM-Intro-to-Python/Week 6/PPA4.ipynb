{
 "cells": [
  {
   "cell_type": "markdown",
   "metadata": {},
   "source": [
    "Write a function named value_to_keys that accepts a dictionary D and a variable named value as arguments. It should return the list of all keys in the dictionary that have value equal to value. If the value is not present in the dictionary, the function should return the empty list.\n",
    "\n",
    "(1) You do not have to accept input from the user or print the output to the console. You just have to write the definition of the function.\n",
    "\n",
    "(2) The keys inside the list could be in any order."
   ]
  },
  {
   "cell_type": "code",
   "execution_count": null,
   "metadata": {},
   "outputs": [],
   "source": [
    "def value_to_keys(D, value):\n",
    "    l = []\n",
    "    for i in D:\n",
    "        if D[i] == value:\n",
    "            l.append(i)\n",
    "    return l"
   ]
  }
 ],
 "metadata": {
  "language_info": {
   "name": "python"
  },
  "orig_nbformat": 4
 },
 "nbformat": 4,
 "nbformat_minor": 2
}
