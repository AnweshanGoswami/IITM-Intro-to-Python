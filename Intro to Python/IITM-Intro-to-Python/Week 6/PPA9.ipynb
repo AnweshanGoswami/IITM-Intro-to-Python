{
 "cells": [
  {
   "cell_type": "markdown",
   "metadata": {},
   "source": [
    "Accept a sequence of words as input. Create a dictionary named real_dict whose keys are the letters of the English alphabet. For each key (letter), the corresponding value should be a list of words that begin with this key (letter). For any given key, the words should be appended to the corresponding list in the order in which they appear in the sequence. You can assume that all words of the sequence will be in lower case.\n",
    "\n",
    "You do not have to print the output to the console."
   ]
  },
  {
   "cell_type": "code",
   "execution_count": null,
   "metadata": {},
   "outputs": [],
   "source": [
    "words = input().split(\",\")\n",
    "\n",
    "real_dict = {}\n",
    "for word in words:\n",
    "    if word[0] not in real_dict:\n",
    "        real_dict[word[0]] = []\n",
    "        real_dict[word[0]].append(word)\n",
    "    else:\n",
    "        real_dict[word[0]].append(word)\n",
    "        \n"
   ]
  }
 ],
 "metadata": {
  "language_info": {
   "name": "python"
  },
  "orig_nbformat": 4
 },
 "nbformat": 4,
 "nbformat_minor": 2
}
