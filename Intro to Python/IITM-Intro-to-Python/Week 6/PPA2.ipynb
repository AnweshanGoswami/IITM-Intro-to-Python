{
 "cells": [
  {
   "cell_type": "code",
   "execution_count": 17,
   "metadata": {},
   "outputs": [
    {
     "name": "stdout",
     "output_type": "stream",
     "text": [
      "four\n",
      "five\n",
      "seven\n",
      "eight\n",
      "nine\n"
     ]
    }
   ],
   "source": [
    "from math import log10\n",
    "\n",
    "numbers = {1:\"one\", 2:\"two\", 3:\"three\", 4:\"four\", 5:\"five\", 6:\"six\", 7:\"seven\", 8:\"eight\", 9:\"nine\",0:\"zero\"}\n",
    "n = int(input())\n",
    "\n",
    "def digit(n):\n",
    "    l = []\n",
    "    d = int(log10(n))+1 # counts number of digits\n",
    "    for i in range(d,1,-1):\n",
    "        l.append(int(n/10**(i-1)))\n",
    "        n = n % 10**(i-1)\n",
    "    l.append(int(n))\n",
    "    return l\n",
    "\n",
    "digis = digit(n)\n",
    "for i in digis:\n",
    "    print(numbers[i])\n",
    "       \n",
    "    "
   ]
  }
 ],
 "metadata": {
  "interpreter": {
   "hash": "a9e07d9c7114714814dde511de02846c2528fd0e5235b228d7fe89267f34beb2"
  },
  "kernelspec": {
   "display_name": "Python 3.9.7 64-bit",
   "language": "python",
   "name": "python3"
  },
  "language_info": {
   "codemirror_mode": {
    "name": "ipython",
    "version": 3
   },
   "file_extension": ".py",
   "mimetype": "text/x-python",
   "name": "python",
   "nbconvert_exporter": "python",
   "pygments_lexer": "ipython3",
   "version": "3.9.7"
  },
  "orig_nbformat": 4
 },
 "nbformat": 4,
 "nbformat_minor": 2
}
