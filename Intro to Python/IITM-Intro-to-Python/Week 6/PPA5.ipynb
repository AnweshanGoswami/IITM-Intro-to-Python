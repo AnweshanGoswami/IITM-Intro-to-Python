{
 "cells": [
  {
   "cell_type": "markdown",
   "metadata": {},
   "source": [
    "Write the following functions:\n",
    "\n",
    "(1) dict_to_list: accept a dictionary D as argument. Return the key-value pairs in D as a list L of tuples. That is, every element of L should be of the form (key, value) such that D[key] = value. Going the other way, every key-value pair in the dictionary should be present as a tuple in the list L.\n",
    "\n",
    "(2) list_to_dict: accept a list of tuples L as argument. Each element of L is of the form (x, y). Return a dict D such that each tuple (x, y) corresponds to a key-value pair in D. That is, D[x] = y.\n",
    "\n",
    "(1) For the function dict_to_list(D), the order in which the key-value pairs are appended to the list doesn't matter.\n",
    "\n",
    "(2) For the function list_to_dict(L), you can assume that if (x1, y1) and (x2, y2) are two different elements in L, x1 != x2. Why is this assumption important?\n",
    "\n",
    "(3) You do not have to accept input from the user or print the output to the console. You just have to write the definition of both the functions."
   ]
  },
  {
   "cell_type": "code",
   "execution_count": null,
   "metadata": {},
   "outputs": [],
   "source": [
    "def dict_to_list(D):\n",
    "    l = []\n",
    "    for i in D:\n",
    "        l.append((i, D[i]))\n",
    "    return l\n",
    "\n",
    "def list_to_dict(L):\n",
    "    # Assuming x1 != x2, bcause tuples can have duplicates but dictionary keys cannot\n",
    "    d = {}\n",
    "    for i in L:\n",
    "        d[i[0]] = i[1]\n",
    "    return d"
   ]
  }
 ],
 "metadata": {
  "language_info": {
   "name": "python"
  },
  "orig_nbformat": 4
 },
 "nbformat": 4,
 "nbformat_minor": 2
}
