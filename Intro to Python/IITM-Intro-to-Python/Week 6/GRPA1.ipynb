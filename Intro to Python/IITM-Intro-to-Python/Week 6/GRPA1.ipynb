{
 "cells": [
  {
   "cell_type": "markdown",
   "metadata": {},
   "source": [
    "The scores dataset is a list of dictionaries one of whose entries is given below for your reference:\n",
    "\n",
    "{'SeqNo': 1, 'Name': 'Devika', 'Gender': 'F', 'City': 'Bengaluru', \n",
    " 'Mathematics': 64, 'Physics': 48, 'Chemistry': 79, 'Biology': 75, \n",
    " 'Computer Science': 88, 'History': 43, 'Civics': 78, 'Philosophy': 55}\n",
    "\n",
    "Write a function named get_toppers that accepts three arguments in this order:\n",
    "\n",
    "scores_dataset\n",
    "subject\n",
    "gender\n",
    "It should a return a list of the names of students who belong to the gender given by the argument gender ('F' or 'M') and have topped in the subject given by the argument subject. As there could be multiple toppers, your output should be a list of names.\n",
    "\n",
    "(1) The names could be appended to the list in any order.\n",
    "\n",
    "(2) You do not have to accept input from the user or print the output to the console. You just have to write the definition of the function."
   ]
  },
  {
   "cell_type": "code",
   "execution_count": null,
   "metadata": {},
   "outputs": [],
   "source": [
    "def get_gender(scores_dataset, gender):\n",
    "    l = []\n",
    "    for i in scores_dataset:\n",
    "        if i[\"Gender\"] == gender:\n",
    "            l.append(i)\n",
    "    return l\n",
    "    \n",
    "def get_toppers(scores_dataset, subject, gender):\n",
    "    l = get_gender(scores_dataset, gender)\n",
    "    maxn = 0\n",
    "    maxl = []\n",
    "    for i in l:\n",
    "        if i[subject] > maxn:\n",
    "            maxl = []\n",
    "            maxl.append(i[\"Name\"])\n",
    "        elif i[subject] == maxn:\n",
    "            maxl.append(i[subject])\n",
    "    return maxl\n",
    "            \n",
    "    "
   ]
  }
 ],
 "metadata": {
  "language_info": {
   "name": "python"
  },
  "orig_nbformat": 4
 },
 "nbformat": 4,
 "nbformat_minor": 2
}
