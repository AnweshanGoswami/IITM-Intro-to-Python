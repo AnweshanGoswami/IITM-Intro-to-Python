{
 "cells": [
  {
   "cell_type": "markdown",
   "metadata": {},
   "source": [
    "The scores dataset is a list of dictionaries one of whose entries is given below for your reference:\n",
    "\n",
    "{'SeqNo': 1, 'Name': 'Devika', 'Gender': 'F', 'City': 'Bengaluru', \n",
    " 'Mathematics': 64, 'Physics': 48, 'Chemistry': 79, 'Biology': 75, \n",
    " 'Computer Science': 88, 'History': 43, 'Civics': 78, 'Philosophy': 55}\n",
    "\n",
    "Write a function named get_toppers that accepts three arguments in this order:\n",
    "\n",
    "scores_dataset\n",
    "subject\n",
    "gender\n",
    "It should a return a list of the names of students who belong to the gender given by the argument gender ('F' or 'M') and have topped in the subject given by the argument subject. As there could be multiple toppers, your output should be a list of names.\n",
    "\n",
    "(1) The names could be appended to the list in any order.\n",
    "\n",
    "(2) You do not have to accept input from the user or print the output to the console. You just have to write the definition of the function."
   ]
  },
  {
   "cell_type": "code",
   "execution_count": null,
   "metadata": {},
   "outputs": [],
   "source": [
    "# Solution 1 (Not working)\n",
    "\n",
    "def get_gender(scores_dataset, gender):\n",
    "    l = []\n",
    "    for i in scores_dataset:\n",
    "        if i[\"Gender\"] == gender:\n",
    "            l.append(i)\n",
    "    return l\n",
    "    \n",
    "def get_toppers(scores_dataset, subject, gender):\n",
    "    l = get_gender(scores_dataset, gender)\n",
    "    maxn = 0\n",
    "    maxl = []\n",
    "    for i in l:\n",
    "        if i[subject] > maxn:\n",
    "            maxl = []\n",
    "            maxl.append(i[\"Name\"])\n",
    "        elif i[subject] == maxn:\n",
    "            maxl.append(i[subject])\n",
    "    return maxl\n",
    "            \n",
    "    "
   ]
  },
  {
   "cell_type": "code",
   "execution_count": 5,
   "metadata": {},
   "outputs": [
    {
     "name": "stdout",
     "output_type": "stream",
     "text": [
      "['C', 'D']\n"
     ]
    }
   ],
   "source": [
    "# Solution 2 (working)\n",
    "\n",
    "def new_list(l, sub):\n",
    "    that_list = []\n",
    "    for i in l:\n",
    "        that_list.append((i[\"Name\"], i[sub], i[\"Gender\"]))\n",
    "    return that_list\n",
    "\n",
    "def get_toppers(scores_dataset, subject, gender):\n",
    "    hehe = new_list(scores_dataset, subject)\n",
    "    max = 0\n",
    "    maxl = []\n",
    "    for i in hehe:\n",
    "        if i[2] == gender and i[1] > max:\n",
    "            maxl = []\n",
    "            max = i[1]\n",
    "            maxl.append(i[0])\n",
    "        elif i[2] == gender and i[1] == max:\n",
    "            maxl.append(i[0])\n",
    "    return maxl\n",
    "\n",
    "\n",
    "#sample = [{\"Name\":\"A\", \"Maths\":42, \"Gender\":\"M\"},{\"Name\":\"B\", \"Maths\":85, \"Gender\":\"F\"},{\"Name\":\"C\", \"Maths\":74, \"Gender\":\"M\"},{\"Name\":\"D\", \"Maths\":74, \"Gender\":\"M\"} ]\n",
    "#print(get_toppers(sample, \"Maths\", \"M\"))"
   ]
  }
 ],
 "metadata": {
  "interpreter": {
   "hash": "a9e07d9c7114714814dde511de02846c2528fd0e5235b228d7fe89267f34beb2"
  },
  "kernelspec": {
   "display_name": "Python 3.9.7 64-bit",
   "language": "python",
   "name": "python3"
  },
  "language_info": {
   "codemirror_mode": {
    "name": "ipython",
    "version": 3
   },
   "file_extension": ".py",
   "mimetype": "text/x-python",
   "name": "python",
   "nbconvert_exporter": "python",
   "pygments_lexer": "ipython3",
   "version": "3.9.7"
  },
  "orig_nbformat": 4
 },
 "nbformat": 4,
 "nbformat_minor": 2
}
