{
 "cells": [
  {
   "cell_type": "markdown",
   "metadata": {},
   "source": [
    "Accept a sequence of words as input. Create a dictionary named freq whose keys are the distinct words in the sequence. The value corresponding to a key (word) should be the frequency of occurrence of the key (word) in the sequence.\n",
    "\n",
    "(1) You can assume that all words will be in lower case.\n",
    "\n",
    "(2) You do not have to print the output to the console. This will be the responsibility of the autograder"
   ]
  },
  {
   "cell_type": "code",
   "execution_count": null,
   "metadata": {},
   "outputs": [],
   "source": [
    "words = input().split(\",\")\n",
    "freq = {}\n",
    "for word in words:\n",
    "    if word in freq:\n",
    "        freq[word] +=1\n",
    "    else:\n",
    "        freq[word] = 1"
   ]
  }
 ],
 "metadata": {
  "language_info": {
   "name": "python"
  },
  "orig_nbformat": 4
 },
 "nbformat": 4,
 "nbformat_minor": 2
}
