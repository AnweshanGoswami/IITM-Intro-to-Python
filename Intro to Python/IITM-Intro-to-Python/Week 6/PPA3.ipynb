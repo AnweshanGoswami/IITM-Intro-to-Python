{
 "cells": [
  {
   "cell_type": "markdown",
   "metadata": {},
   "source": [
    "Write the following functions:\n",
    "\n",
    "(1) is_key: accept a dictionary D and a variable key as arguments. Return True if the variable key is a key of the dictionary D, and False otherwise.\n",
    "\n",
    "(2) value: accept a dictionary D and a variable key as arguments. If the variable key is not a key of the dictionary D, return None, otherwise, return the value corresponding to this key.\n",
    "\n",
    "You do not have to accept input from the user or print the output to the console. You just have to write the definition of both the functions"
   ]
  },
  {
   "cell_type": "code",
   "execution_count": null,
   "metadata": {},
   "outputs": [],
   "source": [
    "def is_key(D, key):\n",
    "    flag = False\n",
    "    if key in D:\n",
    "        flag = True\n",
    "    return flag\n",
    "\n",
    "def value(D, key):\n",
    "    if is_key(D,key):\n",
    "        return D[key]\n",
    "    else:\n",
    "        return None"
   ]
  }
 ],
 "metadata": {
  "language_info": {
   "name": "python"
  },
  "orig_nbformat": 4
 },
 "nbformat": 4,
 "nbformat_minor": 2
}
