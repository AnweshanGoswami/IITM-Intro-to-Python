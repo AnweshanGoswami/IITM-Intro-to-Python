{
 "cells": [
  {
   "cell_type": "markdown",
   "metadata": {},
   "source": [
    "Write a function named rotate that accepts a matrix mat as argument. It should return a matrix that is rotated by 90^{\\circ}90 \n",
    "∘\n",
    "  in the clockwise direction. For example:\n",
    "\n",
    "\\begin{bmatrix} a & b & c\\\\ d & e & f \\end{bmatrix} \\rightarrow \\begin{bmatrix} d & a\\\\ e & b\\\\ f & c \\end{bmatrix}[ \n",
    "a\n",
    "d\n",
    "​\n",
    "  \n",
    "b\n",
    "e\n",
    "​\n",
    "  \n",
    "c\n",
    "f\n",
    "​\n",
    " ]→ \n",
    "⎣\n",
    "⎡\n",
    "​\n",
    "  \n",
    "d\n",
    "e\n",
    "f\n",
    "​\n",
    "  \n",
    "a\n",
    "b\n",
    "c\n",
    "​\n",
    "  \n",
    "⎦\n",
    "⎤\n",
    "​\n",
    " \n",
    "You do not have to accept input from the user or print output to the console. You just have to write the function definition."
   ]
  },
  {
   "cell_type": "code",
   "execution_count": 5,
   "metadata": {},
   "outputs": [],
   "source": [
    "def create_matrix(r,c): # creating a matrix with the dimensions of a transpose\n",
    "    mat = []\n",
    "    for i in range(r):\n",
    "        mat.append([])\n",
    "        for j in range(c):\n",
    "            mat[i].append(0)\n",
    "    return mat\n",
    "\n",
    "def rotate(mat):\n",
    "    rows = len(mat)\n",
    "    cols = len(mat[0])\n",
    "    rot_mat = create_matrix(cols, rows)\n",
    "    for i in range(rows):\n",
    "        for j in range(cols):\n",
    "            rot_mat[j][abs(rows-1-i)] = mat[i][j]  \n",
    "            # the row of the new matrix is same as column of old matrix\n",
    "            # the column of new matrix is equal to (row-1-current row)\n",
    "            # this was done by hand calculations \n",
    "    return rot_mat"
   ]
  }
 ],
 "metadata": {
  "interpreter": {
   "hash": "a9e07d9c7114714814dde511de02846c2528fd0e5235b228d7fe89267f34beb2"
  },
  "kernelspec": {
   "display_name": "Python 3.9.7 64-bit",
   "language": "python",
   "name": "python3"
  },
  "language_info": {
   "codemirror_mode": {
    "name": "ipython",
    "version": 3
   },
   "file_extension": ".py",
   "mimetype": "text/x-python",
   "name": "python",
   "nbconvert_exporter": "python",
   "pygments_lexer": "ipython3",
   "version": "3.9.7"
  },
  "orig_nbformat": 4
 },
 "nbformat": 4,
 "nbformat_minor": 2
}
