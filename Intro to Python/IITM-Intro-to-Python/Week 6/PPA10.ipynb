{
 "cells": [
  {
   "cell_type": "markdown",
   "metadata": {},
   "source": [
    "The scores dataset is a list of dictionaries one of whose entries is given below for your reference:\n",
    "\n",
    "{'SeqNo': 1, 'Name': 'Devika', 'Gender': 'F', 'City': 'Bengaluru', 'Mathematics': 85, 'Physics': 100, 'Chemistry': 79, 'Biology': 75, 'Computer Science': 88, 'History': 60, 'Civics': 88, 'Philosophy': 95}\n",
    "Write the following functions:\n",
    "\n",
    "(1) group_by_city: accepts the scores_dataset as argument. It should return a dictionary named cities whose keys are names of the cities that the students are from. The value corresponding to a key (city) is the list of names of all students who hail from this city. The order in which names are appended to the list doesn't matter.\n",
    "\n",
    "(2) busy_cities: accepts the scores_dataset as argument. It should return a list of cities. Each city in this list has the property that the number of students from this city is greater than or equal to the number of students from every other city in the dataset. Your function should make use of group_by_city. The order in which the cities appended to the list doesn't matter.\n",
    "\n",
    "(1) You do not have to accept input from the user or print the output to the console. You just have to write the definition of both the functions.\n",
    "\n",
    "(2) Do not try to process the output produced. We randomly sample a few elements from the dictionary or list returned by your function and print that in the desired form."
   ]
  },
  {
   "cell_type": "code",
   "execution_count": 8,
   "metadata": {},
   "outputs": [
    {
     "name": "stdout",
     "output_type": "stream",
     "text": [
      "{'Bengaluru': ['Devika']}\n"
     ]
    }
   ],
   "source": [
    "a = [{'SeqNo': 1, 'Name': 'Devika', 'Gender': 'F', 'City': 'Bengaluru', 'Mathematics': 85, 'Physics': 100, 'Chemistry': 79, 'Biology': 75, 'Computer Science': 88, 'History': 60, 'Civics': 88, 'Philosophy': 95}]\n",
    "def group_by_city(scores_dataset):\n",
    "    cities = {}\n",
    "    for i in scores_dataset:\n",
    "        if i[\"City\"] in cities:\n",
    "            cities[i[\"City\"]].append(i[\"Name\"])\n",
    "        else:\n",
    "            cities[i[\"City\"]] = []\n",
    "            cities[i[\"City\"]].append(i[\"Name\"])\n",
    "    return cities\n",
    "    \n",
    "def busy_cities(scores_dataset):\n",
    "    busy = []\n",
    "    cities = group_by_city(scores_dataset)\n",
    "    for i in cities:\n",
    "        my = len(cities[i])\n",
    "        max = 0\n",
    "        for j in cities:\n",
    "            if len(cities[j]) > max:\n",
    "                max = len(cities[j])\n",
    "        if my >= max:\n",
    "            busy.append(i)\n",
    "    return busy\n"
   ]
  }
 ],
 "metadata": {
  "interpreter": {
   "hash": "a9e07d9c7114714814dde511de02846c2528fd0e5235b228d7fe89267f34beb2"
  },
  "kernelspec": {
   "display_name": "Python 3.9.7 64-bit",
   "language": "python",
   "name": "python3"
  },
  "language_info": {
   "codemirror_mode": {
    "name": "ipython",
    "version": 3
   },
   "file_extension": ".py",
   "mimetype": "text/x-python",
   "name": "python",
   "nbconvert_exporter": "python",
   "pygments_lexer": "ipython3",
   "version": "3.9.7"
  },
  "orig_nbformat": 4
 },
 "nbformat": 4,
 "nbformat_minor": 2
}
