{
 "cells": [
  {
   "cell_type": "markdown",
   "metadata": {},
   "source": [
    "Write the following functions:\n",
    "\n",
    "(1) factors: accept a positive integer nn as argument. Return the set of all factors of nn.\n",
    "\n",
    "(2) common_factors: accept two positive integers aa and bb as arguments. Return the set of common factors of the two numbers. This function must make use of factors.\n",
    "\n",
    "(3) factors_upto: accept a positive integer nn as argument. Return a dict D, whose keys are integers and values are sets. Each integer in the range [1, n][1,n], endpoints inclusive, is a key of D. The value corresponding to a key, is the set of all factors of key. This function must make use of factors.\n",
    "\n",
    "The idea we are trying to bring out here is to make use of pre-defined functions whenever needed.\n",
    "\n",
    "You do not have to accept input from the user or print output to the console. You just have to write the definition of all three functions. Each test case will correspond to one function call."
   ]
  },
  {
   "cell_type": "code",
   "execution_count": null,
   "metadata": {},
   "outputs": [],
   "source": [
    "def factors(n):\n",
    "    s = set()\n",
    "    for i in range(1, n+1):\n",
    "        if n % i == 0:\n",
    "            s.add(i)\n",
    "    return s\n",
    "    \n",
    "def common_factors(a, b):\n",
    "    p = factors(a)\n",
    "    q = factors(b)\n",
    "    s = p & q\n",
    "    return s\n",
    "\n",
    "def factors_upto(n):\n",
    "    dic = {}\n",
    "    for i in range(1,n+1):\n",
    "        dic[i] = factors(i)\n",
    "    return dic"
   ]
  }
 ],
 "metadata": {
  "language_info": {
   "name": "python"
  },
  "orig_nbformat": 4
 },
 "nbformat": 4,
 "nbformat_minor": 2
}
