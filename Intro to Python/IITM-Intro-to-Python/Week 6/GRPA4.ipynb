{
 "cells": [
  {
   "cell_type": "markdown",
   "metadata": {},
   "source": [
    "Write a function named two_level_sort that accepts a list of tuples named scores as argument. Each element in this list is of the form (Name, Marks) and represents the marks scored by a student in a test: the first element is the student's name and the second element is his or her marks.\n",
    "\n",
    "The function should return a list of tuples sorted that is sorted in two levels:\n",
    "\n",
    "Level-1: ascending order of marks\n",
    "Level-2: alphabetical order of names among those students who have scored equal marks\n",
    "Each element in the returned list should also be of the form (Name, marks). Note that level-2 should not override level-1. That is, after the second level of sorting, the list should still be sorted in ascending order of marks. Additionally, the students having the same marks should appear in alphabetical order.\n",
    "\n",
    "Sample input-output behaviour\n",
    "\n",
    "scores\ttwo_level_sort(scores)\n",
    "['a', 'random', 'collection', 'a', 'another', 'a', 'random']\t[('Harish', 80), ('Harshita', 80), ('Aparna', 90)]\n",
    "[('Sachin', 85), ('Yuvan', 65), ('Anita', 85)]\t[('Yuvan', 65), ('Anita', 85), ('Sachin', 85)]\n",
    "(1) You should not use any built-in sort functions to solve this problem.\n",
    "\n",
    "(2) You do not have to accept input from the user or print output to the console. You just have to write the function definition."
   ]
  },
  {
   "cell_type": "code",
   "execution_count": null,
   "metadata": {},
   "outputs": [],
   "source": [
    "def two_level_sort(scores):\n",
    "    x = []\n",
    "    while len(scores)>0:\n",
    "        min = scores[0][1]\n",
    "        min_tup = scores[0]\n",
    "        for j in range(len(scores)):\n",
    "            if scores[j][1] < min:\n",
    "                min = scores[j][1]\n",
    "                min_tup = scores[j]\n",
    "        x.append(min_tup)\n",
    "        scores.remove(min_tup)\n",
    "    for i in range(len(x)-1):\n",
    "        if x[i][1] == x[i+1][1] and x[i][0] > x[i+1][0] :\n",
    "            x[i],x[i+1] = x[i+1],x[i]\n",
    "            #print(scores[i], scores[i+1])\n",
    "    return x"
   ]
  },
  {
   "cell_type": "code",
   "execution_count": 66,
   "metadata": {},
   "outputs": [
    {
     "name": "stdout",
     "output_type": "stream",
     "text": [
      "[('Harish', 80), ('Harshita', 80), ('Aparna', 90)]\n"
     ]
    },
    {
     "data": {
      "text/plain": [
       "[('Harish', 80), ('Harshita', 80), ('Aparna', 90)]"
      ]
     },
     "execution_count": 66,
     "metadata": {},
     "output_type": "execute_result"
    }
   ],
   "source": [
    "def two_level_sort(scores):\n",
    "    for i in range(len(scores)-1):\n",
    "        for j in range(len(scores)-1):\n",
    "            if scores[j][1] > scores[j+1][1]:\n",
    "                scores[j],scores[j+1] = scores[j+1],scores[j]\n",
    "    for i in range(len(scores)-1):\n",
    "        if scores[i][1] == scores[i+1][1] and scores[i][0] > scores[i+1][0] :\n",
    "            scores[i],scores[i+1] = scores[i+1],scores[i]\n",
    "            #print(scores[i], scores[i+1])\n",
    "    return scores\n",
    "\n",
    "print(two_level_sort(scores))\n",
    "two_level_sort(scores)\n",
    "    \n"
   ]
  }
 ],
 "metadata": {
  "interpreter": {
   "hash": "a9e07d9c7114714814dde511de02846c2528fd0e5235b228d7fe89267f34beb2"
  },
  "kernelspec": {
   "display_name": "Python 3.9.7 64-bit",
   "language": "python",
   "name": "python3"
  },
  "language_info": {
   "codemirror_mode": {
    "name": "ipython",
    "version": 3
   },
   "file_extension": ".py",
   "mimetype": "text/x-python",
   "name": "python",
   "nbconvert_exporter": "python",
   "pygments_lexer": "ipython3",
   "version": "3.9.7"
  },
  "orig_nbformat": 4
 },
 "nbformat": 4,
 "nbformat_minor": 2
}
