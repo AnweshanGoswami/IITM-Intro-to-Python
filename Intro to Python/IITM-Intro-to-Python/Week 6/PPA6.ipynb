{
 "cells": [
  {
   "cell_type": "markdown",
   "metadata": {},
   "source": [
    "Scores Dataset Revisited\n",
    "\n",
    "Recall the Scores dataset from CT. We shall be using a variant of this dataset for this problem. Each student-entry in the dataset is represented as a dictionary. For example, one of the entries would look like this:\n",
    "\n",
    "{'SeqNo': 1, 'Name': 'Devika', 'Gender': 'F', 'City': 'Bengaluru', 'Mathematics': 85, 'Physics': 100, 'Chemistry': 79, 'Biology': 75, 'Computer Science': 88, 'History': 60, 'Civics': 88, 'Philosophy': 95}\n",
    "All keys of the dict are strings. For SeqNo and all the subjects, the corresponding values are integers. The values corresponding to Name, Gender and City are strings.\n",
    "\n",
    "The entire dataset is represented as a list of dictionaries. That is, each element of the list will be a dictionary like the one given above. This list is named scores_dataset. The SeqNo is a unique identifier for each student that runs from 00 to n - 1n−1, where nn is the total number of students in the dataset.\n",
    "\n",
    "Write a function named get_marks that accepts the scores_dataset and a variable named subject as arguments. It should return the marks scored by all students in subject as a list of tuples. Each element in this list is of the form (Name, Marks). The order in which the tuples are appended to the list doesn't matter.\n",
    "\n",
    "(1) You do not have to accept input from the user or print the output to the console. You just have to write the definition of the function.\n",
    "\n",
    "(2) Do not try to process the output produced. We randomly sample five elements from the list returned by your function and print that in the desired form."
   ]
  },
  {
   "cell_type": "code",
   "execution_count": null,
   "metadata": {},
   "outputs": [],
   "source": [
    "def get_marks(scores_dataset, subject):\n",
    "    sub = []\n",
    "    for i in range(len(scores_dataset)):\n",
    "        sub.append((scores_dataset[i][\"Name\"], scores_dataset[i][subject]))\n",
    "    return sub"
   ]
  }
 ],
 "metadata": {
  "language_info": {
   "name": "python"
  },
  "orig_nbformat": 4
 },
 "nbformat": 4,
 "nbformat_minor": 2
}
