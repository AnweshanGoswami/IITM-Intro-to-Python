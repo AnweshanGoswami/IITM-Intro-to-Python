{
 "cells": [
  {
   "cell_type": "markdown",
   "metadata": {},
   "source": [
    "Write a function named freq_to_words that accepts a list of words as argument. It should return a dictionary which has the following structure:\n",
    "\n",
    "key: frequency of words in the list\n",
    "value: list of all words that have the above frequency\n",
    "Sample input-output behaviour:\n",
    "\n",
    "words\tfreq_to_words(words)\n",
    "['a', 'random', 'collection', 'a', 'another', 'a', 'random']\t{1: ['another', 'collection'], 2: ['random'], 3: ['a']}\n",
    "['one', 'two', 'three', 'one']\t{1: ['three', 'two'], 2: ['one']}\n",
    "(1) All words in the input list will be in lower case.\n",
    "\n",
    "(2) The order in which the words are appended to the list doesn't matter.\n",
    "\n",
    "(3) You do not have to accept input from the user or print the output to the console. You just have to write the function definition."
   ]
  },
  {
   "cell_type": "code",
   "execution_count": null,
   "metadata": {},
   "outputs": [],
   "source": [
    "def word_count(word, l):\n",
    "    count = 0\n",
    "    for i in l:\n",
    "        if i == word:\n",
    "            count +=1\n",
    "    return count\n",
    "\n",
    "def freq_to_words(words):\n",
    "    d = {}\n",
    "    for i in words:\n",
    "        if word_count(i, words) in d:\n",
    "            d[word_count(i, words)].add(i)\n",
    "        else:\n",
    "            d[word_count(i, words)] = set() # using a set to prevent duplicates\n",
    "            d[word_count(i, words)].add(i)\n",
    "    for a in d:\n",
    "        d[a] = list(d[a]) # converting to list to get desired output\n",
    "    return d"
   ]
  }
 ],
 "metadata": {
  "language_info": {
   "name": "python"
  },
  "orig_nbformat": 4
 },
 "nbformat": 4,
 "nbformat_minor": 2
}
