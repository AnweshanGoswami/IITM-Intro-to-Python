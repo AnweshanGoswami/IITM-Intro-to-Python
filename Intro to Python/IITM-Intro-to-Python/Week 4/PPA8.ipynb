{
 "cells": [
  {
   "cell_type": "markdown",
   "metadata": {},
   "source": [
    "An identity matrix is a square matrix which has ones on the main diagonal and zeros everywhere else. For example, the identity matrix of size 3 \\times 33×3 is:\n",
    "\n",
    "\\begin{bmatrix} 1 & 0 & 0\\\\ 0 & 1 & 0\\\\ 0 & 0 & 1 \\end{bmatrix} \n",
    "⎣\n",
    "⎡\n",
    "​\n",
    "  \n",
    "1\n",
    "0\n",
    "0\n",
    "​\n",
    "  \n",
    "0\n",
    "1\n",
    "0\n",
    "​\n",
    "  \n",
    "0\n",
    "0\n",
    "1\n",
    "​\n",
    "  \n",
    "⎦\n",
    "⎤\n",
    "​\n",
    " \n",
    "Accept a positive integer nn as input and print the identity matrix of size n \\times nn×n. Your output should have nn lines, where each line is a sequence of nn comma-separated integers that corresponds to one row of the matrix."
   ]
  },
  {
   "cell_type": "code",
   "execution_count": null,
   "metadata": {},
   "outputs": [],
   "source": [
    "n = int(input())\n",
    "identity_matrix = []\n",
    "\n",
    "for i in range(n):\n",
    "    identity_matrix.append([])\n",
    "    for j in range(n):\n",
    "        identity_matrix[i].append(0)\n",
    "for i in range(n):\n",
    "    for j in range(n):\n",
    "        if i == j:\n",
    "            identity_matrix[i][j] = 1\n",
    "for i in range(n):\n",
    "    for j in range(n-1):\n",
    "        print(identity_matrix[i][j], end=\",\")\n",
    "    print(identity_matrix[i][-1])"
   ]
  }
 ],
 "metadata": {
  "language_info": {
   "name": "python"
  },
  "orig_nbformat": 4
 },
 "nbformat": 4,
 "nbformat_minor": 2
}
