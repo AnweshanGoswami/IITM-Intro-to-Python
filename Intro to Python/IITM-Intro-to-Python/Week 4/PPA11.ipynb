{
 "cells": [
  {
   "cell_type": "markdown",
   "metadata": {},
   "source": [
    "This question introduces you to two ideas that will keep repeating throughout this course:\n",
    "\n",
    "Entering your code within a function. We will cover functions next week. The only thing you need to do for this problem is to indent all your code to the right by one unit (four spaces), and paste this between the prefix and suffix code.\n",
    "The idea of invisible codes. Invisible code is a block of code that will be hidden from your sight. The invisible code will modify the code that you write. But the details of the modification will not be revealed to you.\n",
    "L is a list of real numbers that is already given to you. You have to sort this list in descending order and store the sorted list in a variable called sorted_L.\n",
    "\n",
    "You do not have to accept input from the console as it has already been provided to you. You do not have to print the output to the console. Input-Output is the responsibility of the invisible code for this problem."
   ]
  },
  {
   "cell_type": "code",
   "execution_count": null,
   "metadata": {},
   "outputs": [],
   "source": []
  }
 ],
 "metadata": {
  "language_info": {
   "name": "python"
  },
  "orig_nbformat": 4
 },
 "nbformat": 4,
 "nbformat_minor": 2
}
