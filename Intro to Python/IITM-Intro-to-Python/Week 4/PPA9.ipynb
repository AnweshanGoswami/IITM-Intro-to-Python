{
 "cells": [
  {
   "cell_type": "markdown",
   "metadata": {},
   "source": [
    "Accept a square matrix AA and an integer ss as input and print the matrix s \\cdot As⋅A as output. Multiplying a matrix by an integer ss is equivalent to multiplying each element of the matrix by ss. For example:\n",
    "\n",
    "2 \\cdot \\begin{bmatrix} 1 & 2\\\\ 3 & 4 \\end{bmatrix} = \\begin{bmatrix} 2 & 4\\\\ 6 & 8 \\end{bmatrix}2⋅[ \n",
    "1\n",
    "3\n",
    "​\n",
    "  \n",
    "2\n",
    "4\n",
    "​\n",
    " ]=[ \n",
    "2\n",
    "6\n",
    "​\n",
    "  \n",
    "4\n",
    "8\n",
    "​\n",
    " ]\n",
    "The first line of input is a positive integer, nn, that denotes the dimension of the matrix AA. Each of the next nn lines contains a sequence of space-separated integers. The last line of the input contains the integer ss.\n",
    "\n",
    "Print the matrix s \\cdot As⋅A as output. Each row of the matrix must be printed as a sequence of space separated integers, one row on each line. There should not be any space after the last number on each line. If the expected output looks exactly like the actual output and still you are getting a wrong answer, it is because of the space at the end."
   ]
  },
  {
   "cell_type": "code",
   "execution_count": null,
   "metadata": {},
   "outputs": [],
   "source": [
    "dim = int(input())\n",
    "\n",
    "mat = []\n",
    "\n",
    "for i in range(dim):\n",
    "    mat.append(list(map(int, input().split(\" \"))))\n",
    "\n",
    "scalar = int(input())\n",
    "\n",
    "for i in range(dim):\n",
    "    for j in range(dim-1):\n",
    "        print((mat[i][j]) * scalar, end=\" \")\n",
    "    print(mat[i][-1]*scalar)"
   ]
  }
 ],
 "metadata": {
  "language_info": {
   "name": "python"
  },
  "orig_nbformat": 4
 },
 "nbformat": 4,
 "nbformat_minor": 2
}
