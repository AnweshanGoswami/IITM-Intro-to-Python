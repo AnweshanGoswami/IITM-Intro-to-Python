{
 "cells": [
  {
   "cell_type": "markdown",
   "metadata": {},
   "source": [
    "Accept two square matrices AA and BB of dimensions n \\times nn×n as input and compute their sum A + BA+B.\n",
    "\n",
    "The first line will contain the integer nn. This is followed by 2n2n lines. Each of the first nn lines is a sequence of comma-separated integers that denotes one row of the matrix AA. Each of the last nn lines is a sequence of comma-separated integers that denotes one row of the matrix BB.\n",
    "\n",
    "Your output should again be a sequence of nn lines, where each line is a sequence of comma-separated integer that denotes a row of the matrix A + BA+B."
   ]
  },
  {
   "cell_type": "code",
   "execution_count": null,
   "metadata": {},
   "outputs": [],
   "source": [
    "n = int(input()) #dimensions of the matrices\n",
    "A = []\n",
    "B = []\n",
    "\n",
    "\n",
    "for i in range(n):\n",
    "    #Filling up the A matrix\n",
    "    #map is used to convert each element in the list to an integer. Any function can be appplied, I've used int  here\n",
    "    A.append(list(map(int, input().split(\",\"))))\n",
    "for i in range(n):\n",
    "    #Filing up the B matrix\n",
    "    B.append(list(map(int, input().split(\",\"))))\n",
    "for i in range(n):\n",
    "    for j in range(n-1):\n",
    "        # We print till the second last term because we need to change line and not print a comma\n",
    "        print(A[i][j] + B[i][j], end = \",\")\n",
    "    print(A[i][-1] + B[i][-1])"
   ]
  }
 ],
 "metadata": {
  "language_info": {
   "name": "python"
  },
  "orig_nbformat": 4
 },
 "nbformat": 4,
 "nbformat_minor": 2
}
