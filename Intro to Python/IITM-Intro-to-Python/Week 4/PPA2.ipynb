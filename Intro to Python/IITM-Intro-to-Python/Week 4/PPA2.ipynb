{
 "cells": [
  {
   "cell_type": "markdown",
   "metadata": {},
   "source": [
    "Accept a sequence of words as input, append all these words to a list in the order in which they are entered, and print this list as output. The first line in the input is a positive integer nn that denotes the number of words in the sequence. The next nn lines will have one word on each line."
   ]
  },
  {
   "cell_type": "code",
   "execution_count": null,
   "metadata": {},
   "outputs": [],
   "source": [
    "n = int(input())\n",
    "words = list()\n",
    "\n",
    "for i in range(n):\n",
    "    word = input()\n",
    "    words.append(word)\n",
    "print(words)"
   ]
  }
 ],
 "metadata": {
  "language_info": {
   "name": "python"
  },
  "orig_nbformat": 4
 },
 "nbformat": 4,
 "nbformat_minor": 2
}
