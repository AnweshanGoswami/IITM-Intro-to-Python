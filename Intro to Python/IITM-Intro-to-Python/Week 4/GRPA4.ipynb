{
 "cells": [
  {
   "cell_type": "markdown",
   "metadata": {},
   "source": [
    "You are given the names and dates of birth of a group of people. Find all pairs of members who share a common date of birth. Note that this date need not be common across all pairs. It is sufficient if both members in a pair have the same date of birth.\n",
    "\n",
    "The first line of input is a sequence of comma-separated names. The second line of input is a sequence of comma-separated positive integers. Each integer in the sequence will be in the range [1, 365][1,365], endpoints inclusive, and stands for some day in the year.\n",
    "\n",
    "Find all pairs of names that share a common date of birth and store them in a list called common. Each element of this list is itself a list, and should be of the form [name1, name2], such that name1 comes before name2 in alphabetical order.\n",
    "\n",
    "Notes\n",
    "\n",
    "(1) The pairs can be appended to the list common in any order. Only the names within a pair should be in dictionary order.\n",
    "\n",
    "(2) You can assume that each test case will have at least one pair of members who share the same date of birth.\n",
    "\n",
    "(3) You do not have to print the output to the console. This is the responsibility of the autograder. You just have to populate the list common in the required format.\n",
    "\n",
    "Sample Input/Output\n",
    "\n",
    "For example, consider the input:\n",
    "\n",
    "sachin,ramesh,rohit,priya,saina,sandeep,stella\n",
    "100,50,100,20,30,20,20\n",
    "Your list common could look like this:\n",
    "\n",
    "[['rohit', 'sachin'], ['priya', 'sandeep'], ['priya', 'stella'], ['sandeep', 'stella']]\n"
   ]
  },
  {
   "cell_type": "code",
   "execution_count": 39,
   "metadata": {},
   "outputs": [
    {
     "name": "stdout",
     "output_type": "stream",
     "text": [
      "1 0 a\n",
      "a\n",
      "5 1 b\n",
      "b\n",
      "47 3 d\n",
      "d\n",
      "[]\n"
     ]
    }
   ],
   "source": [
    "#names = input().split(\",\")\n",
    "#days = list(map(int, input().split(\",\")))\n",
    "names = [\"a\", \"b\",\"c\",\"d\",\"e\",\"f\",\"g\",\"h\"]\n",
    "days = [1,5,62,47,5,47,1,89]\n",
    "\n",
    "days_id = days.copy()\n",
    "common = []\n",
    "\n",
    "\n",
    "days.sort()\n",
    "\n",
    "for i in range(len(days)-1):\n",
    "    if days[i] == days[i+1]:\n",
    "        print(days[i], end = \" \")\n",
    "        ind = days_id.index(days[i])\n",
    "        print(days_id.index(days[i]), end = \" \")\n",
    "        print(names[days_id.index(days[i])])\n",
    "        print(names[days_id.index(days[i])])\n",
    "        x = [  ]\n",
    "        common = [i for i,x in enumerate(days) if x==x+1]\n",
    "\n",
    "        #x = [ names [ days_id[ days[i] ]] , names[ [ days_id[ days[i+1] ] ] ]]\n",
    "        #common.append(x)\n",
    "print(common)\n",
    "\n"
   ]
  },
  {
   "cell_type": "code",
   "execution_count": 48,
   "metadata": {},
   "outputs": [
    {
     "name": "stdout",
     "output_type": "stream",
     "text": [
      "[['abir', 'aum'], ['b', 'e'], ['d', 'f']]\n"
     ]
    }
   ],
   "source": [
    "names = input().split(\",\")\n",
    "days = list(map(int, input().split(\",\")))\n",
    "common = []\n",
    "\n",
    "for i in range(len(days)):\n",
    "    for j in range(len(days)):\n",
    "        if days[i] == days[j]:\n",
    "            if names[i] != names[j] and names[i]< names[j]:\n",
    "                common.append([names[i], names[j]])\n",
    "common.sort()\n",
    "print(common)"
   ]
  }
 ],
 "metadata": {
  "interpreter": {
   "hash": "a9e07d9c7114714814dde511de02846c2528fd0e5235b228d7fe89267f34beb2"
  },
  "kernelspec": {
   "display_name": "Python 3.9.7 64-bit",
   "language": "python",
   "name": "python3"
  },
  "language_info": {
   "codemirror_mode": {
    "name": "ipython",
    "version": 3
   },
   "file_extension": ".py",
   "mimetype": "text/x-python",
   "name": "python",
   "nbconvert_exporter": "python",
   "pygments_lexer": "ipython3",
   "version": "3.9.7"
  },
  "orig_nbformat": 4
 },
 "nbformat": 4,
 "nbformat_minor": 2
}
