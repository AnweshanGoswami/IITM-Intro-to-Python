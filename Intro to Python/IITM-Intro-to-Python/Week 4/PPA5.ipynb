{
 "cells": [
  {
   "cell_type": "markdown",
   "metadata": {},
   "source": [
    "Accept a sequence of comma-separated words as input. Reverse the sequence and print it as output.\n",
    "\n",
    "Hint\n",
    "\n",
    "print([1] + [2])\n",
    "print([2] + [1])"
   ]
  },
  {
   "cell_type": "code",
   "execution_count": null,
   "metadata": {},
   "outputs": [],
   "source": [
    "import math\n",
    "l = input().split(\" \")\n",
    "\n",
    "for i in range(len(l)-1):\n",
    "    print(math.floor(float(l[i])), end=\",\")\n",
    "print(math.floor(float(l[-1])))\n",
    "    "
   ]
  }
 ],
 "metadata": {
  "language_info": {
   "name": "python"
  },
  "orig_nbformat": 4
 },
 "nbformat": 4,
 "nbformat_minor": 2
}
