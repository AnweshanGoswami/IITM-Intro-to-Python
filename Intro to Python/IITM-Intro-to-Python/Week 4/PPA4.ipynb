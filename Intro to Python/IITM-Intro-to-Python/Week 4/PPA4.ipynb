{
 "cells": [
  {
   "cell_type": "markdown",
   "metadata": {},
   "source": [
    "This question introduces you to the idea of prefix codes. Prefix code is a block of visible code that is already provided to you. You have to type your code below the prefix code. Note that the contents of the prefix cannot be modified.\n",
    "\n",
    "A list L of words is already given to you as a part of the prefix code. Print the longest word in the list. If there are multiple words with the same maximum length, print the one which appears at the rightmost end of the list.\n",
    "\n",
    "You do not have to accept input from the console as it has already been provided to you."
   ]
  },
  {
   "cell_type": "code",
   "execution_count": null,
   "metadata": {},
   "outputs": [],
   "source": [
    "This question introduces you to the idea of prefix codes. Prefix code is a block of visible code that is already provided to you. You have to type your code below the prefix code. Note that the contents of the prefix cannot be modified.\n",
    "\n",
    "A list L of words is already given to you as a part of the prefix code. Print the longest word in the list. If there are multiple words with the same maximum length, print the one which appears at the rightmost end of the list.\n",
    "\n",
    "You do not have to accept input from the console as it has already been provided to you."
   ]
  }
 ],
 "metadata": {
  "language_info": {
   "name": "python"
  },
  "orig_nbformat": 4
 },
 "nbformat": 4,
 "nbformat_minor": 2
}
