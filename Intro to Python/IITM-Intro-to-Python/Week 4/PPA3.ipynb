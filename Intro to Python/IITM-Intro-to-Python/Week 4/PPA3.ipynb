{
 "cells": [
  {
   "cell_type": "markdown",
   "metadata": {},
   "source": [
    "Accept a sequence of comma-separated integers as input and print the maximum value in the sequence as output.\n",
    "\n",
    "Hint\n",
    "\n",
    "When in doubt, always print the variables and examine the output.\n",
    "\n",
    "num = '1,2,3,4,5'\n",
    "L = num.split(',')"
   ]
  },
  {
   "cell_type": "code",
   "execution_count": 2,
   "metadata": {},
   "outputs": [
    {
     "name": "stdout",
     "output_type": "stream",
     "text": [
      "89\n"
     ]
    }
   ],
   "source": [
    "nums = input().split(\",\")\n",
    "max = -1\n",
    "\n",
    "for i in range(len(nums)):\n",
    "    if int(nums[i]) > max:\n",
    "        max = int(nums[i])\n",
    "        \n",
    "print(max)"
   ]
  }
 ],
 "metadata": {
  "interpreter": {
   "hash": "a9e07d9c7114714814dde511de02846c2528fd0e5235b228d7fe89267f34beb2"
  },
  "kernelspec": {
   "display_name": "Python 3.9.7 64-bit",
   "language": "python",
   "name": "python3"
  },
  "language_info": {
   "codemirror_mode": {
    "name": "ipython",
    "version": 3
   },
   "file_extension": ".py",
   "mimetype": "text/x-python",
   "name": "python",
   "nbconvert_exporter": "python",
   "pygments_lexer": "ipython3",
   "version": "3.9.7"
  },
  "orig_nbformat": 4
 },
 "nbformat": 4,
 "nbformat_minor": 2
}
