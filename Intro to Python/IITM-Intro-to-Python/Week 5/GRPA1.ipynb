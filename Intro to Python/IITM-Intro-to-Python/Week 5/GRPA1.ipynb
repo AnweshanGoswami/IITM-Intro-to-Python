{
 "cells": [
  {
   "cell_type": "markdown",
   "metadata": {},
   "source": [
    "The range of a list of numbers is the difference between the maximum and minimum values in the list.\n",
    "\n",
    "Write a function named get_range that accepts a list of real numbers as argument. It should return the range of the list.\n",
    "\n",
    "Note\n",
    "\n",
    "(1) Avoid using built-in function such as max and min.\n",
    "\n",
    "(2) You do not have to accept input from the user or print output to the console. You just have to write the function definition."
   ]
  },
  {
   "cell_type": "code",
   "execution_count": null,
   "metadata": {},
   "outputs": [],
   "source": [
    "def my_max(L):\n",
    "    max = -99999\n",
    "    for i in L:\n",
    "        if i > max:\n",
    "            max = i\n",
    "    return max\n",
    "    \n",
    "def my_min(L):\n",
    "    min = 99999\n",
    "    for i in L:\n",
    "        if i < min:\n",
    "            min = i\n",
    "    return min    \n",
    "\n",
    "\n",
    "def get_range(L):\n",
    "    return my_max(L)-my_min(L)\n"
   ]
  }
 ],
 "metadata": {
  "language_info": {
   "name": "python"
  },
  "orig_nbformat": 4
 },
 "nbformat": 4,
 "nbformat_minor": 2
}
