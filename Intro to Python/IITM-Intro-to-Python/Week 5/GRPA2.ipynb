{
 "cells": [
  {
   "cell_type": "markdown",
   "metadata": {},
   "source": [
    "A perfect number is a positive integer that is equal to the sum of all its divisors excluding itself. For example, 66 is a perfect number as 6 = 1 + 2 + 36=1+2+3.\n",
    "\n",
    "Write a function named is_perfect that accepts a positive integer nn as argument and returns True if it is perfect, and False otherwise.\n",
    "\n",
    "You do not have to accept input from the user or print output to the console. You just have to write the function definition."
   ]
  },
  {
   "cell_type": "code",
   "execution_count": null,
   "metadata": {},
   "outputs": [],
   "source": [
    "def factors(n):\n",
    "    factors_list = []\n",
    "    for i in range(2, int(n/2)+1):\n",
    "        if n%i == 0:\n",
    "            factors_list.append(i)\n",
    "    return factors_list\n",
    "\n",
    "def is_perfect(n):\n",
    "    sum = 1 # 1 is always a factor\n",
    "    factors_list = factors(n)\n",
    "    for i in factors_list:\n",
    "        sum += i\n",
    "    if sum == n:\n",
    "        return True\n",
    "    else:\n",
    "        return False"
   ]
  }
 ],
 "metadata": {
  "language_info": {
   "name": "python"
  },
  "orig_nbformat": 4
 },
 "nbformat": 4,
 "nbformat_minor": 2
}
