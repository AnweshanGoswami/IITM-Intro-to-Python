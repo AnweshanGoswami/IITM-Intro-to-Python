{
 "cells": [
  {
   "cell_type": "markdown",
   "metadata": {},
   "source": [
    "The distance between two words is defined as follows:\n",
    "\n",
    "It is -1, if the words are of unequal lengths.\n",
    "If the word-lengths are equal, it is the sum of the distances between letters at corresponding positions in the words. For example:\n",
    "d_{\\text{word}}(\\text{dog}, \\text{cat}) = d_{\\text{letter}}(\\text{d}, \\text{c}) + d_{\\text{letter}}(\\text{o}, \\text{a}) + d_{\\text{letter}}(\\text{g}, \\text{t}) = 1 + 14 + 13 = 28d \n",
    "word\n",
    "​\n",
    " (dog,cat)=d \n",
    "letter\n",
    "​\n",
    " (d,c)+d \n",
    "letter\n",
    "​\n",
    " (o,a)+d \n",
    "letter\n",
    "​\n",
    " (g,t)=1+14+13=28\n",
    "Write a function named distance that accepts two words as arguments and returns the distance between them.\n",
    "\n",
    "You do not have to accept input from the user or print output to the console. You just have to write the function definition."
   ]
  },
  {
   "cell_type": "code",
   "execution_count": 11,
   "metadata": {},
   "outputs": [
    {
     "name": "stdout",
     "output_type": "stream",
     "text": [
      "28\n"
     ]
    }
   ],
   "source": [
    "letters = \"abcdefghijklmnopqrstuvwxyz\"\n",
    "\n",
    "def pos(c):\n",
    "    return letters.index(c)\n",
    "\n",
    "def char_gap(c, d):\n",
    "    return abs(pos(c) - pos(d))\n",
    "def distance(word1, word2):\n",
    "    dist = 0\n",
    "    if len(word1)!= len(word2):\n",
    "        dist = -1\n",
    "    else:\n",
    "        for i in range(len(word1)):\n",
    "            dist += char_gap(word1[i], word2[i])\n",
    "    return dist\n",
    "\n",
    "print(distance(\"dog\", \"cat\"))"
   ]
  }
 ],
 "metadata": {
  "interpreter": {
   "hash": "a9e07d9c7114714814dde511de02846c2528fd0e5235b228d7fe89267f34beb2"
  },
  "kernelspec": {
   "display_name": "Python 3.9.7 64-bit",
   "language": "python",
   "name": "python3"
  },
  "language_info": {
   "codemirror_mode": {
    "name": "ipython",
    "version": 3
   },
   "file_extension": ".py",
   "mimetype": "text/x-python",
   "name": "python",
   "nbconvert_exporter": "python",
   "pygments_lexer": "ipython3",
   "version": "3.9.7"
  },
  "orig_nbformat": 4
 },
 "nbformat": 4,
 "nbformat_minor": 2
}
