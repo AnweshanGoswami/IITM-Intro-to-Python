{
 "cells": [
  {
   "cell_type": "markdown",
   "metadata": {},
   "source": [
    "Transpose of a matrix"
   ]
  },
  {
   "cell_type": "code",
   "execution_count": 1,
   "metadata": {},
   "outputs": [
    {
     "name": "stdout",
     "output_type": "stream",
     "text": [
      "[[1, 4], [2, 5], [3, 6]]\n"
     ]
    }
   ],
   "source": [
    "def create_matrix(r,c):\n",
    "    mat = []\n",
    "    for rows in range(r):\n",
    "        mat.append([])\n",
    "        for cols in range(c):\n",
    "            mat[rows].append(0)\n",
    "    return mat\n",
    "\n",
    "def transpose(mat):\n",
    "    rows = len(mat)\n",
    "    cols = len(mat[0])\n",
    "    mat_trans = create_matrix(cols, rows)\n",
    "    for r in range(rows):\n",
    "        for c in range(cols):\n",
    "            mat_trans[c][r] = mat[r][c] #interchanging rows and columns\n",
    "    return mat_trans\n",
    "\n",
    "mat = [[1,2,3],[4,5,6]]\n",
    "print(transpose(mat))"
   ]
  }
 ],
 "metadata": {
  "interpreter": {
   "hash": "a9e07d9c7114714814dde511de02846c2528fd0e5235b228d7fe89267f34beb2"
  },
  "kernelspec": {
   "display_name": "Python 3.9.7 64-bit ('anaconda3real': conda)",
   "language": "python",
   "name": "python3"
  },
  "language_info": {
   "codemirror_mode": {
    "name": "ipython",
    "version": 3
   },
   "file_extension": ".py",
   "mimetype": "text/x-python",
   "name": "python",
   "nbconvert_exporter": "python",
   "pygments_lexer": "ipython3",
   "version": "3.9.7"
  },
  "orig_nbformat": 4
 },
 "nbformat": 4,
 "nbformat_minor": 2
}
