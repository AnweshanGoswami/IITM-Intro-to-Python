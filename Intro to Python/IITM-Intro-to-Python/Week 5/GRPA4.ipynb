{
 "cells": [
  {
   "cell_type": "markdown",
   "metadata": {},
   "source": [
    "A n \\times nn×n square matrix of positive integers is called a magic square if the following sums are equal:\n",
    "(1) row-sum: sum of numbers in every row; there are nn such values, one for each row\n",
    "(2) column-sum: sum of numbers in every column; there are nn such values, one for each column\n",
    "(3) diagonal-sum: sum of numbers in both the diagonals; there are two values\n",
    "\n",
    "There are n + n + 2 = 2n + 2n+n+2=2n+2 values involved. All these values must be the same for the matrix to be a magic-square.\n",
    "\n",
    "Write a function named is_magic that accepts a square matrix as argument and returns YES if it is a magic-square and NO if it isn't one.\n",
    "\n",
    "Notes\n",
    "\n",
    "(1) The cells of a magic square need not be distinct. Some or even all the cells could be identical.\n",
    "\n",
    "(2) You do not have to accept input from the user or print output to the console. You just have to write the function definition."
   ]
  },
  {
   "cell_type": "code",
   "execution_count": 1,
   "metadata": {},
   "outputs": [
    {
     "name": "stdout",
     "output_type": "stream",
     "text": [
      "3\n",
      "7\n"
     ]
    }
   ],
   "source": [
    "mat = [[1,2],[3,4]]\n",
    "row_sum = 0\n",
    "for rows in range(len(mat)):\n",
    "    row_sum = sum(mat[rows])\n",
    "    print(row_sum)"
   ]
  },
  {
   "cell_type": "code",
   "execution_count": 5,
   "metadata": {},
   "outputs": [],
   "source": [
    "def is_magic(mat):\n",
    "    flag = \"\" # to return the final statement\n",
    "    row_flag = False\n",
    "    col_flag = False\n",
    "    diag_flag = False\n",
    "    # respective checks for rows and columns and both diagonals\n",
    "\n",
    "    count = 0 # To check how many times a row/col == baseline\n",
    "    row_sum = 0\n",
    "    col_sum = 0\n",
    "    diag_sum1 = 0 # for principal diagonal\n",
    "    diag_sum2 = 0 # for the opposite diagonal\n",
    "\n",
    "\n",
    "    baseline = sum(mat[0]) # setting a baseline to check other values against\n",
    "\n",
    "    # Checking the rows\n",
    "    for rows in range(len(mat)):\n",
    "        row_sum = sum(mat[rows])\n",
    "        if row_sum == baseline:\n",
    "            count += 1\n",
    "            row_sum = 0\n",
    "        else:\n",
    "            break\n",
    "    if count == len(mat): # if all the rows were equal to baseline\n",
    "        row_flag = True\n",
    "        count = 0 # resetting count for the column checking\n",
    "\n",
    "   \n",
    "    # Column checking\n",
    "    for rows in range(len(mat)):\n",
    "        for cols in range(len(mat[0])):\n",
    "            col_sum += mat[cols][rows]\n",
    "        if col_sum == baseline:\n",
    "            count += 1\n",
    "            col_sum = 0\n",
    "        else:\n",
    "            break\n",
    "    if count == len(mat):\n",
    "        col_flag = True\n",
    "        count = 0 # resetting for diagonals check\n",
    "\n",
    "\n",
    "    i = 0 # first row\n",
    "    j = len(mat)-1 # last element of first row\n",
    "    while i <= len(mat)-1 and j >=0:\n",
    "        diag_sum1 += mat[i][i] # sum in principal diagonal\n",
    "        diag_sum2 += mat[i][j] # sum in the other diagonal\n",
    "        i += 1 # incrementing row value\n",
    "        j -= 1 # decrementing column number\n",
    "    if diag_sum1 == diag_sum2 == baseline:\n",
    "        diag_flag = True\n",
    "\n",
    "    # Checking if all 3 passed the test\n",
    "    if row_flag and col_flag and diag_flag:\n",
    "        flag = \"YES\"\n",
    "    else:\n",
    "        flag = \"NO\"\n",
    "    return flag"
   ]
  },
  {
   "cell_type": "code",
   "execution_count": 6,
   "metadata": {},
   "outputs": [
    {
     "name": "stdout",
     "output_type": "stream",
     "text": [
      "YES\n"
     ]
    }
   ],
   "source": [
    "mat = [[4,9,2],[3,5,7],[8,1,6]]\n",
    "\n",
    "\n",
    "print(is_magic(mat))\n",
    "\n"
   ]
  },
  {
   "cell_type": "code",
   "execution_count": null,
   "metadata": {},
   "outputs": [],
   "source": []
  }
 ],
 "metadata": {
  "interpreter": {
   "hash": "a9e07d9c7114714814dde511de02846c2528fd0e5235b228d7fe89267f34beb2"
  },
  "kernelspec": {
   "display_name": "Python 3.9.7 64-bit",
   "language": "python",
   "name": "python3"
  },
  "language_info": {
   "codemirror_mode": {
    "name": "ipython",
    "version": 3
   },
   "file_extension": ".py",
   "mimetype": "text/x-python",
   "name": "python",
   "nbconvert_exporter": "python",
   "pygments_lexer": "ipython3",
   "version": "3.9.7"
  },
  "orig_nbformat": 4
 },
 "nbformat": 4,
 "nbformat_minor": 2
}
