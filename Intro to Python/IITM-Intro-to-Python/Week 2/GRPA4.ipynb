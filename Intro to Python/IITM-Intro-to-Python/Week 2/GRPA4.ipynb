{
 "cells": [
  {
   "cell_type": "markdown",
   "metadata": {},
   "source": [
    "You are given the dates of birth of two persons, not necessarily from the same family. Your task is to find the younger of the two. If both of them share the same date of birth, then the younger of the two is assumed to be that person whose name comes first in alphabetical order.\n",
    "\n",
    "The input will have four lines. The first two lines correspond to the first person, while the last two lines correspond to the second person. For each person, the first line corresponds to the name and the second line corresponds to the date of birth in DD-MM-YYYY format. Your output should be the name of the younger of the two."
   ]
  },
  {
   "cell_type": "code",
   "execution_count": null,
   "metadata": {},
   "outputs": [],
   "source": [
    "first_name = input()\n",
    "first_dob = input().replace(\"-\",\"\")\n",
    "second_name = input()\n",
    "second_dob = input().replace(\"-\",\"\")\n",
    "\n",
    "\n",
    "if int(first_dob[4:8]) > int(second_dob[4:8]):\n",
    "    print(first_name)\n",
    "elif int(first_dob[4:8]) < int(second_dob[4:8]):\n",
    "    print(second_name)\n",
    "elif int(first_dob[4:8]) == int(second_dob[4:8]):\n",
    "    if int(first_dob[2:4]) > int(second_dob[2:4]):\n",
    "        print(first_name)\n",
    "    elif int(first_dob[2:4]) < int(second_dob[2:4]):\n",
    "        print(second_name)\n",
    "    elif int(first_dob[2:4]) == int(second_dob[2:4]):\n",
    "        if int(first_dob[0:2]) > int(second_dob[0:2]):\n",
    "            print(first_name)\n",
    "        elif int(first_dob[0:2]) < int(second_dob[0:2]):\n",
    "            print(second_name)\n",
    "        elif int(first_dob[0:2]) == int(second_dob[0:2]):\n",
    "            if first_name.lower()[0] > second_name.lower()[0]:\n",
    "                print(second_name)\n",
    "            elif first_name.lower()[0] < second_name.lower()[0]:\n",
    "                print(first_name)"
   ]
  }
 ],
 "metadata": {
  "language_info": {
   "name": "python"
  },
  "orig_nbformat": 4
 },
 "nbformat": 4,
 "nbformat_minor": 2
}
