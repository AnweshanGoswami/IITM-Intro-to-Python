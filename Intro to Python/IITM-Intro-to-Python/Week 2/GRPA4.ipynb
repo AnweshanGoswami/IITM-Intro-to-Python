{
 "cells": [
  {
   "cell_type": "markdown",
   "source": [
    "You are given the dates of birth of two persons, not necessarily from the same family. Your task is to find the younger of the two. If both of them share the same date of birth, then the younger of the two is assumed to be that person whose name comes first in alphabetical order.\n",
    "\n",
    "The input will have four lines. The first two lines correspond to the first person, while the last two lines correspond to the second person. For each person, the first line corresponds to the name and the second line corresponds to the date of birth in DD-MM-YYYY format. Your output should be the name of the younger of the two."
   ],
   "metadata": {}
  },
  {
   "cell_type": "code",
   "execution_count": null,
   "source": [
    "first_name = input()\r\n",
    "first_dob = input().replace(\"-\",\"\")\r\n",
    "second_name = input()\r\n",
    "second_dob = input().replace(\"-\",\"\")\r\n",
    "\r\n",
    "\r\n",
    "\r\n",
    "if int(first_dob[4:8]) > int(second_dob[4:8]):\r\n",
    "    print(first_name)\r\n",
    "elif int(first_dob[4:8]) < int(second_dob[4:8]):\r\n",
    "    print(second_name)\r\n",
    "elif int(first_dob[4:8]) == int(second_dob[4:8]):\r\n",
    "    if int(first_dob[2:4]) > int(second_dob[2:4]):\r\n",
    "        print(first_name)\r\n",
    "    elif int(first_dob[2:4]) < int(second_dob[2:4]):\r\n",
    "        print(second_name)\r\n",
    "    elif int(first_dob[2:4]) == int(second_dob[2:4]):\r\n",
    "        if int(first_dob[0:2]) > int(second_dob[0:2]):\r\n",
    "            print(first_name)\r\n",
    "        elif int(first_dob[0:2]) < int(second_dob[0:2]):\r\n",
    "            print(second_name)\r\n",
    "        elif int(first_dob[0:2]) == int(second_dob[0:2]):\r\n",
    "            if first_name.lower()[0] > second_name.lower()[0]:\r\n",
    "                print(second_name)\r\n",
    "            elif first_name.lower()[0] < second_name.lower()[0]:\r\n",
    "                print(first_name)"
   ],
   "outputs": [],
   "metadata": {}
  }
 ],
 "metadata": {
  "language_info": {
   "name": "python"
  },
  "orig_nbformat": 4
 },
 "nbformat": 4,
 "nbformat_minor": 2
}