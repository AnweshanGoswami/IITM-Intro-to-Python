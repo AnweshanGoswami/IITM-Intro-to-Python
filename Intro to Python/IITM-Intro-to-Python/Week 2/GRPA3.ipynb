{
 "cells": [
  {
   "cell_type": "markdown",
   "metadata": {},
   "source": [
    "Accept a string as input and print the vowels present in the string in alphabetical order. If the string doesn't contain any vowels, then print the string none as output. Each vowel that appears in the input string — irrespective of its case — should appear just once in lower case in the output."
   ]
  },
  {
   "cell_type": "code",
   "execution_count": null,
   "metadata": {},
   "outputs": [],
   "source": [
    "word = input().lower()\n",
    "vowels = \"\"\n",
    "\n",
    "if \"a\" in word:\n",
    "    vowels = vowels + \"a\"\n",
    "if \"e\" in word:\n",
    "    vowels = vowels + \"e\"\n",
    "if \"i\" in word:\n",
    "    vowels = vowels + \"i\"\n",
    "if \"o\" in word:\n",
    "    vowels = vowels + \"o\"\n",
    "if \"u\" in word:\n",
    "    vowels = vowels + \"u\"\n",
    "if len(vowels) > 0:\n",
    "    print(vowels)\n",
    "else:\n",
    "    print(\"none\")\n",
    "    \n"
   ]
  }
 ],
 "metadata": {
  "language_info": {
   "name": "python"
  },
  "orig_nbformat": 4
 },
 "nbformat": 4,
 "nbformat_minor": 2
}
