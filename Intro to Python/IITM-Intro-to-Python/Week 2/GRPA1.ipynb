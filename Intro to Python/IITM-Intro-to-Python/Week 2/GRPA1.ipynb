{
 "cells": [
  {
   "cell_type": "markdown",
   "metadata": {},
   "source": [
    "Accept three positive integers as input and check if they form the sides of a right triangle. Print YES if they form one, and NO if they do not. The input will have three lines, with one integer on each line. The output should be a single line containing one of these two strings: YES or NO."
   ]
  },
  {
   "cell_type": "code",
   "execution_count": null,
   "metadata": {},
   "outputs": [],
   "source": [
    "a,b,c = int(input()), int(input()), int(input())\n",
    "\n",
    "# Pythagorean on each side\n",
    "a_hypo = (a*a) == (c*c) + (b*b)\n",
    "b_hypo = (b*b) == (a*a) + (c*c)\n",
    "c_hypo = (c*c) == (b*b) + (a*a) \n",
    "\n",
    "if a_hypo or b_hypo or c_hypo:\n",
    "    print(\"YES\")\n",
    "else:\n",
    "    print(\"NO\")"
   ]
  }
 ],
 "metadata": {
  "language_info": {
   "name": "python"
  },
  "orig_nbformat": 4
 },
 "nbformat": 4,
 "nbformat_minor": 2
}
