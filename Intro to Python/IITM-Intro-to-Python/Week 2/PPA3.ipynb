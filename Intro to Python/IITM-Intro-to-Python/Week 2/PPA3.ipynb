{
 "cells": [
  {
   "cell_type": "code",
   "execution_count": null,
   "metadata": {},
   "outputs": [],
   "source": [
    "time = int(input())\n",
    "if (time>=0) and (time<=5):\n",
    "    print(\"NIGHT\")\n",
    "elif (time>=6) and (time<=11):\n",
    "    print(\"MORNING\")\n",
    "elif (time>=12) and (time<=17):\n",
    "    print(\"AFTERNOON\")\n",
    "elif (time>=18) and (time<=23):\n",
    "    print(\"EVENING\")\n",
    "else:\n",
    "    print(\"INVALID\")"
   ]
  }
 ],
 "metadata": {
  "language_info": {
   "name": "python"
  },
  "orig_nbformat": 4
 },
 "nbformat": 4,
 "nbformat_minor": 2
}
