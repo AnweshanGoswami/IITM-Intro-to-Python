{
 "cells": [
  {
   "cell_type": "markdown",
   "metadata": {},
   "source": [
    "Accept a string as input. Your task is to determine if the input string is a valid password or not. For a string to be a valid password, it must satisfy all the conditions given below:\n",
    "\n",
    "(1) It should have at least 8 and at most 32 characters\n",
    "\n",
    "(2) It should start with an uppercase or lowercase letter\n",
    "\n",
    "(3) It should not have any of these characters: / \\ = ' \"\n",
    "\n",
    "(4) It should not have spaces\n",
    "\n",
    "It could have any character that is not mentioned in the list of characters to be avoided (points 3 and 4). Output True if the string forms a valid password and False otherwise."
   ]
  },
  {
   "cell_type": "code",
   "execution_count": null,
   "metadata": {},
   "outputs": [],
   "source": [
    "password = input()\n",
    "forbidden = \"/\\\\=\\'\\\" \"\n",
    "flag = False\n",
    "\n",
    "if len(password) >= 8 and len(password) <=32:\n",
    "    if password[0].isalpha():\n",
    "        if forbidden[0] not in password and forbidden[1] not in password and forbidden[2] not in password and forbidden[3] not in password and forbidden[4] not in password and forbidden[5] not in password:\n",
    "            flag = True\n",
    "print(flag)"
   ]
  }
 ],
 "metadata": {
  "language_info": {
   "name": "python"
  },
  "orig_nbformat": 4
 },
 "nbformat": 4,
 "nbformat_minor": 2
}
