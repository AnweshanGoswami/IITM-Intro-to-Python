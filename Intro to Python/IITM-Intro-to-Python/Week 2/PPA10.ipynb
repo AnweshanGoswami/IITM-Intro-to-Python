{
 "cells": [
  {
   "cell_type": "markdown",
   "metadata": {},
   "source": [
    "Accept a real number xx as input and print the greatest integer less than or equal to xx on the first line, followed by the smallest integer greater than or equal to xx on the second line."
   ]
  },
  {
   "cell_type": "code",
   "execution_count": null,
   "metadata": {},
   "outputs": [],
   "source": [
    "from math import *\n",
    "x = float(input())\n",
    "\n",
    "print(floor(x))\n",
    "print(ceil(x))"
   ]
  }
 ],
 "metadata": {
  "language_info": {
   "name": "python"
  },
  "orig_nbformat": 4
 },
 "nbformat": 4,
 "nbformat_minor": 2
}
