{
 "cells": [
  {
   "cell_type": "markdown",
   "metadata": {},
   "source": [
    "Accept a string as input. If the input string is of odd length, then continue with it. If the input string is of even length, make the string of odd length by following the two steps mentioned below:\n",
    "(1) If the last character is a period (.), then remove it\n",
    "(2) If the last character is not a period, then add a period (.) to the end of the string\n",
    "\n",
    "Call this string of odd length word. Select a substring made up of three consecutive characters from word such that there are an equal number of characters to the left and right of this substring. Print this substring as output. You can assume that all input strings will be in lower case and will have a length of at least four."
   ]
  },
  {
   "cell_type": "code",
   "execution_count": null,
   "metadata": {},
   "outputs": [],
   "source": [
    "word = input()\n",
    "\n",
    "word_len = len(word)\n",
    "if (word_len % 2 == 0):\n",
    "    if (word[-1] == \".\"):\n",
    "        word = word[:word_len]\n",
    "    else:\n",
    "        word = word + \".\"\n",
    "        \n",
    "# Length before and after substring is equal, so let it be x. The length of the substrib=ng is 3. All\n",
    "# of these togather make up the length of the word. So, x + 3 + x = len(word).\n",
    "# or. x = (len(word) - 3) / 2\n",
    "\n",
    "x = int((len(word) - 3) / 2)\n",
    "print(word[x:x+3])"
   ]
  }
 ],
 "metadata": {
  "language_info": {
   "name": "python"
  },
  "orig_nbformat": 4
 },
 "nbformat": 4,
 "nbformat_minor": 2
}
