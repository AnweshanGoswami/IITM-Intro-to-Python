{
 "cells": [
  {
   "cell_type": "markdown",
   "metadata": {},
   "source": [
    "You have nn gold coins with you. You wish to divide this among three of your friends under the following conditions:\n",
    "(1) All three of them should get a non-zero share.\n",
    "(2) No two of them should get the same number of coins.\n",
    "(3) You should not have any coins with you at the end of this sharing process.\n",
    "The input has four lines. The first line contains the number of coins with you. The next three lines will have the share given to your three friends. All inputs shall be non-negative integers. If the division satisfies these conditions, then print the string FAIR. If not, print UNFAIR."
   ]
  },
  {
   "cell_type": "code",
   "execution_count": null,
   "metadata": {},
   "outputs": [],
   "source": [
    "gold_coins = int(input())\n",
    "a_share = int(input())\n",
    "b_share = int(input())\n",
    "c_share = int(input())\n",
    "\n",
    "non_zero_check = (a_share > 0 ) and (b_share > 0 ) and (c_share > 0 )\n",
    "entirety_check = (a_share + b_share + c_share) == gold_coins\n",
    "two_equal_check = (a_share == b_share) or (b_share == c_share) or (a_share == c_share)\n",
    "\n",
    "if non_zero_check and entirety_check and not two_equal_check:\n",
    "    print(\"FAIR\")\n",
    "else:\n",
    "    print(\"UNFAIR\")"
   ]
  }
 ],
 "metadata": {
  "language_info": {
   "name": "python"
  },
  "orig_nbformat": 4
 },
 "nbformat": 4,
 "nbformat_minor": 2
}
