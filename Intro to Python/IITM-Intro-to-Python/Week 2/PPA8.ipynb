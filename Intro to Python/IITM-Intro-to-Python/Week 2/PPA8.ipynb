{
 "cells": [
  {
   "cell_type": "markdown",
   "metadata": {},
   "source": [
    "Accept two positions as input: start and end. Print YES if a bishop at start can move to end in exactly one move. Print NO otherwise. Note that a bishop can only move along diagonals.\n"
   ]
  },
  {
   "cell_type": "code",
   "execution_count": null,
   "metadata": {},
   "outputs": [],
   "source": [
    "start = input()\n",
    "end = input()\n",
    "\n",
    "cols = \"ABCDEFGH\"\n",
    "dist_alpha = cols.index(start[0]) - cols.index(end[0]) # calculates how much it travelled column wise\n",
    "dist_num = int(start[1]) - int(end[1]) # calculates how much distance travelled row wise\n",
    "\n",
    "if abs(dist_alpha) == abs(dist_num):\n",
    "    print(\"YES\")\n",
    "else:\n",
    "    print(\"NO\")\n"
   ]
  }
 ],
 "metadata": {
  "language_info": {
   "name": "python"
  },
  "orig_nbformat": 4
 },
 "nbformat": 4,
 "nbformat_minor": 2
}
