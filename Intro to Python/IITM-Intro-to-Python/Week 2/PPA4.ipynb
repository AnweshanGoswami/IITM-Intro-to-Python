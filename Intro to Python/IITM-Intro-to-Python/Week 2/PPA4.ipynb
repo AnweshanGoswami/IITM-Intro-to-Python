{
 "cells": [
  {
   "cell_type": "markdown",
   "metadata": {},
   "source": [
    "Accept a point in 2D space as input and find the region in space that this point belongs to. A point could belong to one of the four quadrants, or it could be on one of the two axes, or it could be the origin. The input is given in 2 lines: the first line is the x-coordinate of the point while the second line is its y-coordinate. The possible outputs are first, second, third, fourth, x-axis, y-axis, and origin. Any other output will not be accepted. Note that all outputs should be in lower case."
   ]
  },
  {
   "cell_type": "code",
   "execution_count": null,
   "metadata": {},
   "outputs": [],
   "source": [
    "x,y = float(input()), float(input())\n",
    "if (x == 0) and (y != 0):\n",
    "    print(\"y-axis\")\n",
    "elif (x != 0) and (y == 0):\n",
    "    print(\"x-axis\")\n",
    "elif (x > 0):\n",
    "    if (y>0):\n",
    "        print(\"first\")\n",
    "    elif (y<0):\n",
    "        print(\"fourth\")\n",
    "elif (x<0):\n",
    "    if (y>0):\n",
    "        print(\"second\")\n",
    "    elif (y<0):\n",
    "        print(\"third\")\n",
    "else:\n",
    "    print(\"origin\")"
   ]
  }
 ],
 "metadata": {
  "language_info": {
   "name": "python"
  },
  "orig_nbformat": 4
 },
 "nbformat": 4,
 "nbformat_minor": 2
}
