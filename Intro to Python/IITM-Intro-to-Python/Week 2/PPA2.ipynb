{
 "cells": [
  {
   "cell_type": "markdown",
   "metadata": {},
   "source": [
    "Accept the value of xx as input and print the value of f(x)f(x) as output. Note that both the input and output are real numbers. Your code should reflect this aspect. That is, both xx and f(x)f(x) should be float values."
   ]
  },
  {
   "cell_type": "code",
   "execution_count": null,
   "metadata": {},
   "outputs": [],
   "source": [
    "x = float(input())\n",
    "if (x>=0) and (x<10):\n",
    "    print(x+2)\n",
    "elif (x>=10):\n",
    "    print(x**2+2)\n",
    "else:\n",
    "    print(0.0)\n",
    "\n"
   ]
  }
 ],
 "metadata": {
  "language_info": {
   "name": "python"
  },
  "orig_nbformat": 4
 },
 "nbformat": 4,
 "nbformat_minor": 2
}
