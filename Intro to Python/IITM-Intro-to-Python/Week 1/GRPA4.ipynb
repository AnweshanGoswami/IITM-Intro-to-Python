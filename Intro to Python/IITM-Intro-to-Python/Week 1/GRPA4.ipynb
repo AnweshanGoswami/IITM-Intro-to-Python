{
 "cells": [
  {
   "cell_type": "markdown",
   "metadata": {},
   "source": [
    "Assume that several IITs start offering online degrees across multiple branches. The email-id of a student is defined as follows:\n",
    "branch_degree_year_roll@student.onlinedegree.institute.ac.in\n",
    "For example, if the email-id is CS_BT_21_7412@student.onlinedegree.iitm.ac.in, then this student is from the computer science branch, pursuing a BTech degree from IITM, starting from the year 2021, with 7412 as the roll number. branch, degree and year are codes of length two, while roll and institute are codes of length four. Accept a student's email-id as input and print the following details, one item on each line:\n",
    "\n",
    "(1) Branch\n",
    "(2) Degree\n",
    "(3) Year\n",
    "(4) Roll number\n",
    "(5) Institute"
   ]
  },
  {
   "cell_type": "code",
   "execution_count": null,
   "metadata": {},
   "outputs": [],
   "source": [
    "id = input()\n",
    "print(id[:2])\n",
    "print(id[3:5])\n",
    "print(id[6:8])\n",
    "print(id[9:13])\n",
    "print(id[35:39])"
   ]
  }
 ],
 "metadata": {
  "language_info": {
   "name": "python"
  },
  "orig_nbformat": 4
 },
 "nbformat": 4,
 "nbformat_minor": 2
}
