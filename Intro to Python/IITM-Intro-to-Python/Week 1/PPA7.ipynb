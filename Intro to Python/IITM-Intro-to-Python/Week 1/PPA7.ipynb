{
 "cells": [
  {
   "cell_type": "markdown",
   "metadata": {},
   "source": [
    "Accept a five digit number as input and print the sum of its digits as output."
   ]
  },
  {
   "cell_type": "code",
   "execution_count": null,
   "metadata": {},
   "outputs": [],
   "source": [
    "a = input()\n",
    "b = int(a)\n",
    "sum = 0\n",
    "for i in range(len(a)):\n",
    "    k = a[i]\n",
    "    sum = sum + int(a[i])\n",
    "print(sum)"
   ]
  }
 ],
 "metadata": {
  "language_info": {
   "name": "python"
  },
  "orig_nbformat": 4
 },
 "nbformat": 4,
 "nbformat_minor": 2
}
