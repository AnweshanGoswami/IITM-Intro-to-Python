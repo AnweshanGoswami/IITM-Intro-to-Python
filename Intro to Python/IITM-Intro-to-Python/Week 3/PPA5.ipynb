{
 "cells": [
  {
   "cell_type": "markdown",
   "metadata": {},
   "source": [
    "Accept a sequence of positive integers as input and print the the maximum number in the sequence. The input will have n + 1n+1 lines, where nn denotes the number of terms in the sequence. The i^{th}i \n",
    "th\n",
    "  line in the input will contain the i^{th}i \n",
    "th\n",
    "  term in the sequence for 1 \\leq i \\leq n1≤i≤n. The last line of the input will always be the number 0. Each test case will have at least one term in the sequence."
   ]
  },
  {
   "cell_type": "code",
   "execution_count": null,
   "metadata": {},
   "outputs": [],
   "source": [
    "n = -1\n",
    "max = 0\n",
    "while (n!=0):\n",
    "    n = int(input())\n",
    "    if n > max:\n",
    "        max = n\n",
    "    elif n == 0:\n",
    "        break\n",
    "print(max)"
   ]
  }
 ],
 "metadata": {
  "language_info": {
   "name": "python"
  },
  "orig_nbformat": 4
 },
 "nbformat": 4,
 "nbformat_minor": 2
}
