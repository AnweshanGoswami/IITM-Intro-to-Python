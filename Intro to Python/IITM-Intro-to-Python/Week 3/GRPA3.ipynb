{
 "cells": [
  {
   "cell_type": "markdown",
   "metadata": {},
   "source": [
    "A bot starts at the origin — (0, 0)(0,0) — and can make the following moves:\n",
    "\n",
    "(1) UP\n",
    "(2) DOWN\n",
    "(3) LEFT\n",
    "(4) RIGHT\n",
    "Each move has a magnitude of 1 unit. Accept the sequence of moves made by the bot as input. The first entry in the sequence is always START while the last entry in the sequence is always STOP. A sample sequence is given below:\n",
    "\n",
    "START\n",
    "UP\n",
    "RIGHT\n",
    "LEFT\n",
    "LEFT\n",
    "DOWN\n",
    "UP\n",
    "STOP\n",
    "\n",
    "Print the Manhattan distance of the bot from the origin. If the bot is at the position (x, y)(x,y), then its Manhattan distance from the origin is given by the equation:\n",
    "\n",
    "D = |x| + |y|D=∣x∣+∣y∣"
   ]
  },
  {
   "cell_type": "code",
   "execution_count": null,
   "metadata": {},
   "outputs": [],
   "source": [
    "command = \"START\"\n",
    "x = 0\n",
    "y = 0\n",
    "\n",
    "while command != \"STOP\":\n",
    "    command = input()\n",
    "    if command == \"UP\":\n",
    "        y += 1\n",
    "    elif command == \"DOWN\":\n",
    "        y -= 1 \n",
    "    elif command == \"LEFT\":\n",
    "        x -= 1\n",
    "    elif command == \"RIGHT\":\n",
    "        x += 1\n",
    "    elif command == \"STOP\":\n",
    "        break\n",
    "    \n",
    "man_dist = abs(x) + abs(y)\n",
    "print(man_dist)\n",
    "    \n",
    "    "
   ]
  }
 ],
 "metadata": {
  "language_info": {
   "name": "python"
  },
  "orig_nbformat": 4
 },
 "nbformat": 4,
 "nbformat_minor": 2
}
