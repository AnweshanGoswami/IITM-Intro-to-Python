{
 "cells": [
  {
   "cell_type": "markdown",
   "metadata": {},
   "source": [
    "Accept two positive integers aa and bb as input. Print the sum of all integers in the range [1000, 2000][1000,2000], endpoints inclusive, that are divisible by both aa and bb. If you find no number satisfying this condition in the given range, then print 0."
   ]
  },
  {
   "cell_type": "code",
   "execution_count": null,
   "metadata": {},
   "outputs": [],
   "source": [
    "sum = 0\n",
    "a,b = int(input()), int(input())\n",
    "for i in range(1000,2001):\n",
    "    if i%a == 0 and i%b == 0:\n",
    "        sum += i\n",
    "print(sum)"
   ]
  }
 ],
 "metadata": {
  "interpreter": {
   "hash": "a9e07d9c7114714814dde511de02846c2528fd0e5235b228d7fe89267f34beb2"
  },
  "kernelspec": {
   "display_name": "Python 3.9.7 64-bit",
   "language": "python",
   "name": "python3"
  },
  "language_info": {
   "name": "python",
   "version": "3.9.7"
  },
  "orig_nbformat": 4
 },
 "nbformat": 4,
 "nbformat_minor": 2
}
