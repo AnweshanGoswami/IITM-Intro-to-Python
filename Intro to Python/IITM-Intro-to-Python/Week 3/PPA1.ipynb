{
 "cells": [
  {
   "cell_type": "code",
   "execution_count": null,
   "metadata": {},
   "outputs": [],
   "source": [
    "Accept a positive integer nn as input and print the first nn positive integers, one number on each line."
   ]
  },
  {
   "cell_type": "markdown",
   "metadata": {},
   "source": [
    "n = int(input())\n",
    "for i in range(1, n+1):\n",
    "    print(i)"
   ]
  }
 ],
 "metadata": {
  "language_info": {
   "name": "python"
  },
  "orig_nbformat": 4
 },
 "nbformat": 4,
 "nbformat_minor": 2
}
