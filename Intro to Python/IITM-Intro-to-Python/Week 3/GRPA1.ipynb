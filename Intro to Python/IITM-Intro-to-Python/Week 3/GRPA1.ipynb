{
 "cells": [
  {
   "cell_type": "markdown",
   "metadata": {},
   "source": [
    "Accept a positive integer nn as input and print the sum of the first nn terms of the series given below:\n",
    "\n",
    "1+ (1 + 2) + (1 + 2 + 3) + (1 + 2 + 3 + 4) + \\cdots1+(1+2)+(1+2+3)+(1+2+3+4)+⋯\n",
    "Just to be clear, the first term in the series is 11, the second term is (1 + 2)(1+2) and so on."
   ]
  },
  {
   "cell_type": "code",
   "execution_count": null,
   "metadata": {},
   "outputs": [],
   "source": [
    "n = int(input())\n",
    "sum = 0\n",
    "\n",
    "for i in range(n+1):\n",
    "    for j in range(1,i+1):\n",
    "        sum += j\n",
    "print(sum)"
   ]
  }
 ],
 "metadata": {
  "language_info": {
   "name": "python"
  },
  "orig_nbformat": 4
 },
 "nbformat": 4,
 "nbformat_minor": 2
}
