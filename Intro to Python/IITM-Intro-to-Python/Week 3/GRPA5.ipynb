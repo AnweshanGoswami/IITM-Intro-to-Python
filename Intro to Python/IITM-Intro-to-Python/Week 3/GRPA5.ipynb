{
 "cells": [
  {
   "cell_type": "markdown",
   "metadata": {},
   "source": [
    "Accept a phone number as input. A valid phone number should satisfy the following constraints.\n",
    "\n",
    "(1) The number should start with one of these digits: 6, 7, 8, 9\n",
    "\n",
    "(2) The number should be exactly 10 digits long.\n",
    "\n",
    "(3) No digit should appear more than 7 times in the number.\n",
    "\n",
    "(4) No digit should appear more than 5 times in a row in the number.\n",
    "\n",
    "If the fourth condition is not very clear, then consider this example: the number 9888888765 is invalid because the digit 8 appears more than 5 times in a row.\n",
    "\n",
    "Print the string valid if the phone number is valid. If not, print the string invalid."
   ]
  },
  {
   "cell_type": "code",
   "execution_count": 16,
   "metadata": {},
   "outputs": [
    {
     "name": "stdout",
     "output_type": "stream",
     "text": [
      "valid\n"
     ]
    }
   ],
   "source": [
    "num = \"9933958978\"\n",
    "start_condition =  num.startswith(\"6\") or num.startswith(\"7\") or num.startswith(\"8\") or num.startswith(\"9\")\n",
    "len_condition =  len(num) == 10\n",
    "count =0\n",
    "flag = False\n",
    "rep_condition = \"000000\" in num or \"111111\" in num or \"222222\" in num or \"333333\" in num or \"444444\" in num or \"555555\" in num or \"666666\" in num or \"777777\" in num or \"888888\" in num or \"999999\" in num  \n",
    "\n",
    "\n",
    "if start_condition and len_condition and not rep_condition:\n",
    "    for i in range(len(num)):\n",
    "        for j in range(len(num)):\n",
    "            if num[j] == num[i]:\n",
    "                count += 1\n",
    "        if count <= 7:\n",
    "            flag = True\n",
    "if flag:\n",
    "    print(\"valid\")\n",
    "else:\n",
    "    print(\"invalid\")"
   ]
  }
 ],
 "metadata": {
  "interpreter": {
   "hash": "a9e07d9c7114714814dde511de02846c2528fd0e5235b228d7fe89267f34beb2"
  },
  "kernelspec": {
   "display_name": "Python 3.9.7 64-bit",
   "language": "python",
   "name": "python3"
  },
  "language_info": {
   "codemirror_mode": {
    "name": "ipython",
    "version": 3
   },
   "file_extension": ".py",
   "mimetype": "text/x-python",
   "name": "python",
   "nbconvert_exporter": "python",
   "pygments_lexer": "ipython3",
   "version": "3.9.7"
  },
  "orig_nbformat": 4
 },
 "nbformat": 4,
 "nbformat_minor": 2
}
