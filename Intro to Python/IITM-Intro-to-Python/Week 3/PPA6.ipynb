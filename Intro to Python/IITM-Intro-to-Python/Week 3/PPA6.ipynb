{
 "cells": [
  {
   "cell_type": "markdown",
   "metadata": {},
   "source": [
    "Accept a sequence of words as input and print the the shortest word in the sequence. The input will have n + 1n+1 lines, where nn denotes the number of terms in the sequence. The i^{th}i \n",
    "th\n",
    "  line in the input will contain the i^{th}i \n",
    "th\n",
    "  word in the sequence for 1 \\leq i \\leq n1≤i≤n.\n",
    "\n",
    "The last line of the input will always be the string abcdefghijklmnopqrstuvwxyz. This string is not a part of the sequence. You can assume that each test case corresponds to a non-empty sequence of words. If there are multiple words that have the same minimum length, print the first such occurrence."
   ]
  },
  {
   "cell_type": "code",
   "execution_count": null,
   "metadata": {},
   "outputs": [],
   "source": [
    "word = \"\"\n",
    "min = 100000\n",
    "min_word = \"\"\n",
    "terminate = \"abcdefghijklmnopqrstuvwxyz\"\n",
    "\n",
    "while (word != terminate):\n",
    "    word = input()\n",
    "    if (word == terminate):\n",
    "        break\n",
    "    elif len(word) < min:\n",
    "        min = len(word)\n",
    "        min_word = word\n",
    "print(min_word)"
   ]
  }
 ],
 "metadata": {
  "language_info": {
   "name": "python"
  },
  "orig_nbformat": 4
 },
 "nbformat": 4,
 "nbformat_minor": 2
}
