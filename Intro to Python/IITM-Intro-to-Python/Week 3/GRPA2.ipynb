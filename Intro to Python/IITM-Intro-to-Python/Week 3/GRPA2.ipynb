{
 "cells": [
  {
   "cell_type": "markdown",
   "metadata": {},
   "source": [
    "Accept a positive integer nn, with n > 1n>1, as input from the user and print all the prime factors of nn in ascending order."
   ]
  },
  {
   "cell_type": "code",
   "execution_count": 1,
   "metadata": {},
   "outputs": [],
   "source": [
    "n = 0\n",
    "flag = True\n",
    "\n",
    "\n",
    "for i in range(1, n+1):\n",
    "    if n%i == 0 and n>1:\n",
    "        for j in range(2, int(i/2)+1):\n",
    "            if i%j == 0 :\n",
    "                flag = False\n",
    "                break\n",
    "        if flag == True and i>1:\n",
    "            print(i)\n",
    "    "
   ]
  }
 ],
 "metadata": {
  "interpreter": {
   "hash": "a9e07d9c7114714814dde511de02846c2528fd0e5235b228d7fe89267f34beb2"
  },
  "kernelspec": {
   "display_name": "Python 3.9.7 64-bit",
   "language": "python",
   "name": "python3"
  },
  "language_info": {
   "codemirror_mode": {
    "name": "ipython",
    "version": 3
   },
   "file_extension": ".py",
   "mimetype": "text/x-python",
   "name": "python",
   "nbconvert_exporter": "python",
   "pygments_lexer": "ipython3",
   "version": "3.9.7"
  },
  "orig_nbformat": 4
 },
 "nbformat": 4,
 "nbformat_minor": 2
}
