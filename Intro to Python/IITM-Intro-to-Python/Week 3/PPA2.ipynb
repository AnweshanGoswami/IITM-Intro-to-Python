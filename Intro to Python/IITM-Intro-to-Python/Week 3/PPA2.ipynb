{
 "cells": [
  {
   "cell_type": "code",
   "execution_count": null,
   "metadata": {},
   "outputs": [],
   "source": [
    "#Accept a positive integer nn as input and print all the factors of nn, one number on each line.\n",
    "\n",
    "n = int(input())\n",
    "c = int((n/2) + 1)\n",
    "for i in range(1, c):\n",
    "    if(n%i == 0):\n",
    "        print(i)\n",
    "print(n)"
   ]
  }
 ],
 "metadata": {
  "language_info": {
   "name": "python"
  },
  "orig_nbformat": 4
 },
 "nbformat": 4,
 "nbformat_minor": 2
}
