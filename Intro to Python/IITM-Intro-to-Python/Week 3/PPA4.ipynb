{
 "cells": [
  {
   "cell_type": "markdown",
   "metadata": {},
   "source": [
    "Accept a positive integer nn as input, where n > 1n>1. Print PRIME if nn is a prime number and NOTPRIME otherwise."
   ]
  },
  {
   "cell_type": "code",
   "execution_count": null,
   "metadata": {},
   "outputs": [],
   "source": [
    "Accept a positive integer nn as input, where n > 1n>1. Print PRIME if nn is a prime number and NOTPRIME otherwise."
   ]
  }
 ],
 "metadata": {
  "language_info": {
   "name": "python"
  },
  "orig_nbformat": 4
 },
 "nbformat": 4,
 "nbformat_minor": 2
}
