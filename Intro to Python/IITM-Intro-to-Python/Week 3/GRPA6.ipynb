{
 "cells": [
  {
   "cell_type": "markdown",
   "metadata": {},
   "source": [
    "Accept a positive integer nn as input and print a \"number arrow\" of size nn. For example, n = 5n=5 should produce the following output:\n",
    "\n",
    "1\n",
    "\n",
    "1,2\n",
    "\n",
    "1,2,3\n",
    "\n",
    "1,2,3,4\n",
    "\n",
    "1,2,3,4,5\n",
    "\n",
    "1,2,3,4\n",
    "\n",
    "1,2,3\n",
    "\n",
    "1,2\n",
    "\n",
    "1"
   ]
  },
  {
   "cell_type": "code",
   "execution_count": 7,
   "metadata": {},
   "outputs": [
    {
     "name": "stdout",
     "output_type": "stream",
     "text": [
      "1\n",
      "1,2\n",
      "1,2,3\n",
      "1,2,3,4\n",
      "1,2,3\n",
      "1,2\n",
      "1\n"
     ]
    }
   ],
   "source": [
    "n = int(input())\n",
    "\n",
    "for i in range(1, n+1):\n",
    "    for j in range(1, i):\n",
    "        print(j, end=\",\")\n",
    "    print(i)\n",
    "for i in range(n, 1, -1):\n",
    "    for j in range(1, j):\n",
    "        print(j, end=\",\")\n",
    "    print(i-1)"
   ]
  }
 ],
 "metadata": {
  "interpreter": {
   "hash": "a9e07d9c7114714814dde511de02846c2528fd0e5235b228d7fe89267f34beb2"
  },
  "kernelspec": {
   "display_name": "Python 3.9.7 64-bit",
   "language": "python",
   "name": "python3"
  },
  "language_info": {
   "codemirror_mode": {
    "name": "ipython",
    "version": 3
   },
   "file_extension": ".py",
   "mimetype": "text/x-python",
   "name": "python",
   "nbconvert_exporter": "python",
   "pygments_lexer": "ipython3",
   "version": "3.9.7"
  },
  "orig_nbformat": 4
 },
 "nbformat": 4,
 "nbformat_minor": 2
}
