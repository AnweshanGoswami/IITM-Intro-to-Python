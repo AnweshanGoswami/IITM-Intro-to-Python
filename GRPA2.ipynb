{
 "cells": [
  {
   "cell_type": "markdown",
   "metadata": {},
   "source": [
    "You are given a list marks that has the marks scored by a class of students in a Mathematics test. Find the median marks and store it in a float variable named median. You can assume that marks is a list of float values.\n",
    "\n",
    "Procedure to find the median\n",
    "\n",
    "(1) Sort the marks in ascending order. Do not try to use built-in methods. Look at the lecture 4.5 of week-4 to get a better idea.\n",
    "\n",
    "(2) If the number of students is odd, then the median is the middle value in the sorted sequence. If the number of students is even, then the median is the arithmetic mean of the two middle values in the sorted sequence.\n",
    "\n",
    "You do not have to accept input from the console as it has already been provided to you. You do not have to print the output to the console. Input-Output is the responsibility of the autograder for this problem. Refer to PPA-11 if you are not sure how this works."
   ]
  },
  {
   "cell_type": "code",
   "execution_count": 19,
   "metadata": {},
   "outputs": [],
   "source": [
    "def solution(marks):\n",
    "    import math\n",
    "    ### Enter your solution below this line\n",
    "    ### Indent your entire code by one unit (4 spaces) to the right\n",
    "    for i in range(len(marks)):\n",
    "        for j in range(len(marks)):\n",
    "            if marks[i]>marks[j]:\n",
    "                marks[i],marks[j] = marks[j],marks[i]\n",
    "    median = 0.0\n",
    "    mid = math.ceil(len(marks)/2)\n",
    "    if len(marks) % 2 == 0:\n",
    "        median = (marks[mid] + marks[mid-1]) / 2\n",
    "    else:\n",
    "        median = marks[mid-1]\n",
    "    ### Enter your solution above this line\n",
    "    return median"
   ]
  },
  {
   "cell_type": "code",
   "execution_count": 20,
   "metadata": {},
   "outputs": [
    {
     "data": {
      "text/plain": [
       "30"
      ]
     },
     "execution_count": 20,
     "metadata": {},
     "output_type": "execute_result"
    }
   ],
   "source": [
    "l = [30,50,40,10,20]\n",
    "solution(l)"
   ]
  },
  {
   "cell_type": "code",
   "execution_count": null,
   "metadata": {},
   "outputs": [],
   "source": []
  }
 ],
 "metadata": {
  "interpreter": {
   "hash": "a9e07d9c7114714814dde511de02846c2528fd0e5235b228d7fe89267f34beb2"
  },
  "kernelspec": {
   "display_name": "Python 3.9.7 64-bit",
   "language": "python",
   "name": "python3"
  },
  "language_info": {
   "codemirror_mode": {
    "name": "ipython",
    "version": 3
   },
   "file_extension": ".py",
   "mimetype": "text/x-python",
   "name": "python",
   "nbconvert_exporter": "python",
   "pygments_lexer": "ipython3",
   "version": "3.9.7"
  },
  "orig_nbformat": 4
 },
 "nbformat": 4,
 "nbformat_minor": 2
}
